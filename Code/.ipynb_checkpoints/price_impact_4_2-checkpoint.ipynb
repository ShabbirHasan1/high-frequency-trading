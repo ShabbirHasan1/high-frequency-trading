{
 "cells": [
  {
   "cell_type": "markdown",
   "metadata": {},
   "source": [
    "<b> import statements"
   ]
  },
  {
   "cell_type": "code",
   "execution_count": 1,
   "metadata": {
    "collapsed": true
   },
   "outputs": [],
   "source": [
    "import sys\n",
    "\n",
    "import numpy as np\n",
    "import pandas as pd\n",
    "import datetime\n",
    "import time\n",
    "\n",
    "\n",
    "import requests\n",
    "import re\n",
    "from bs4 import BeautifulSoup\n",
    "from time import sleep\n",
    "import pickle\n",
    "\n",
    "import matplotlib.pyplot as plt\n",
    "import seaborn as sns\n",
    "%matplotlib inline\n",
    "\n",
    "sns.set_style(\"whitegrid\", {'axes.grid' : False})"
   ]
  },
  {
   "cell_type": "code",
   "execution_count": 2,
   "metadata": {},
   "outputs": [
    {
     "name": "stderr",
     "output_type": "stream",
     "text": [
      "/Users/Cyril/anaconda/envs/data-x/lib/python3.6/site-packages/sklearn/cross_validation.py:41: DeprecationWarning: This module was deprecated in version 0.18 in favor of the model_selection module into which all the refactored classes and functions are moved. Also note that the interface of the new CV iterators are different from that of this module. This module will be removed in 0.20.\n",
      "  \"This module will be removed in 0.20.\", DeprecationWarning)\n",
      "/Users/Cyril/anaconda/envs/data-x/lib/python3.6/site-packages/sklearn/grid_search.py:42: DeprecationWarning: This module was deprecated in version 0.18 in favor of the model_selection module into which all the refactored classes and functions are moved. This module will be removed in 0.20.\n",
      "  DeprecationWarning)\n",
      "/Users/Cyril/anaconda/envs/data-x/lib/python3.6/site-packages/sklearn/learning_curve.py:22: DeprecationWarning: This module was deprecated in version 0.18 in favor of the model_selection module into which all the functions are moved. This module will be removed in 0.20\n",
      "  DeprecationWarning)\n"
     ]
    }
   ],
   "source": [
    "from sklearn import cross_validation, datasets, linear_model, grid_search, metrics, ensemble, tree\n",
    "from sklearn import pipeline, manifold, preprocessing, feature_selection, decomposition\n",
    "from sklearn.preprocessing import PolynomialFeatures, StandardScaler, MinMaxScaler\n",
    "from sklearn.learning_curve import learning_curve\n",
    "from sklearn.cross_validation import cross_val_score\n",
    "\n",
    "# Classifiers\n",
    "from sklearn.linear_model import LogisticRegression\n",
    "from sklearn.neighbors import KNeighborsClassifier\n",
    "from sklearn.naive_bayes import GaussianNB\n",
    "from sklearn.svm import SVC\n",
    "from sklearn.tree import DecisionTreeClassifier\n",
    "from sklearn.ensemble import RandomForestClassifier\n",
    "from sklearn.ensemble import AdaBoostClassifier\n",
    "from sklearn.ensemble import ExtraTreesClassifier\n",
    "from sklearn.ensemble import GradientBoostingClassifier"
   ]
  },
  {
   "cell_type": "code",
   "execution_count": 3,
   "metadata": {
    "collapsed": true
   },
   "outputs": [],
   "source": [
    "from pandas import Series, DataFrame, Panel\n",
    "import scipy; \n",
    "import scipy.stats as stats; \n",
    "from scipy.stats import ttest_ind, ttest_ind_from_stats; from scipy.special import stdtr; "
   ]
  },
  {
   "cell_type": "markdown",
   "metadata": {},
   "source": [
    "<b> defining lobster"
   ]
  },
  {
   "cell_type": "code",
   "execution_count": 4,
   "metadata": {
    "collapsed": true
   },
   "outputs": [],
   "source": [
    "from pandas import DataFrame, read_csv, concat\n",
    "from os import path\n",
    "import numpy as np\n",
    "from datetime import timedelta\n",
    "from enum import Enum\n",
    "\n",
    "class OrderEvent(Enum):\n",
    "    SUBMISSION = 1\n",
    "    CANCELLATION = 2\n",
    "    DELETION = 3\n",
    "    EXECUTION = 4\n",
    "    HIDDEN_EXECUTION =5\n",
    "    CROSS_TRADE = 6\n",
    "    TRADING_HALT  = 7\n",
    "    OTHER = 8\n",
    "\n",
    "__EventMap = {}\n",
    "\n",
    "for e in OrderEvent:\n",
    "    __EventMap[e.value] = e\n",
    "\n",
    "def get_orderEvent(eventid):\n",
    "    return __EventMap[eventid]\n",
    "\n",
    "\n",
    "class LobsterData:\n",
    "    def __init__(self):\n",
    "        self.order_books = None\n",
    "        self.messages = DataFrame()\n",
    "        self.level = 0\n",
    "\n",
    "    def read_single_day_data(self, order_book_file, message_file, append=True, convert_time=False):\n",
    "        file_name = path.basename(order_book_file)\n",
    "        file_base = path.splitext(file_name)[0]\n",
    "        mydate = np.datetime64('{0}T00:00-0000'.format(file_base.split('_')[1]))\n",
    "\n",
    "        myorderbooks = read_csv(order_book_file, header=None)\n",
    "        mymessages = read_csv(message_file, header=None)\n",
    "        columns = []\n",
    "        for iCol in range(int(len(myorderbooks.columns) / 4 + 0.5)):\n",
    "            columns.append('Ask_Price_{0}'.format(iCol + 1))\n",
    "            columns.append('Ask_Size_{0}'.format(iCol + 1))\n",
    "            columns.append('Bid_Price_{0}'.format(iCol + 1))\n",
    "            columns.append('Bid_Size_{0}'.format(iCol + 1))\n",
    "        myorderbooks.columns = columns\n",
    "        mymessages.columns = ['Time', 'Event', 'Order_ID', 'Size', 'Price', 'Direction']\n",
    "        mymessages.Event = mymessages['Event'].map(get_orderEvent)\n",
    "        mymessages['Date'] = mydate\n",
    "        if convert_time:\n",
    "            mymessages.Time = mymessages.Time.apply(lambda x: mydate + np.timedelta64(int(x * 1e9), 'ns'))\n",
    "\n",
    "        mymessages.set_index(['Date', 'Time'], inplace=True)\n",
    "        myorderbooks.index = mymessages.index\n",
    "\n",
    "        if append:\n",
    "            self.order_books = concat([self.order_books, myorderbooks], axis=0)\n",
    "            self.messages = concat([self.messages, mymessages], axis=0)\n",
    "        else:\n",
    "            self.order_books = myorderbooks\n",
    "            self.messages = mymessages\n",
    "        self.level = int(self.order_books.shape[1] / 4 + 0.5)\n",
    "\n",
    "    def read_period_data(self, ticker, level, start_date, end_date, data_path='./', **kwargs):\n",
    "        my_date = start_date\n",
    "        while my_date <= end_date:\n",
    "            print('read {0}'.format(my_date.strftime('%Y-%m-%d')))\n",
    "            order_book_file = \"{0}/{1}_{2}_34200000_57600000_orderbook_{3}.csv\".format(data_path, ticker,\n",
    "                                                                                       my_date.strftime('%Y-%m-%d'),\n",
    "                                                                                       level)\n",
    "\n",
    "            message_file = \"{0}/{1}_{2}_34200000_57600000_message_{3}.csv\".format(data_path, ticker,\n",
    "                                                                                       my_date.strftime('%Y-%m-%d'),\n",
    "                                                                                       level)\n",
    "            self.read_single_day_data(order_book_file, message_file, **kwargs)\n",
    "            my_date += timedelta(1)\n",
    "\n",
    "    def get_number_of_record(self):\n",
    "        return self.order_books.shape[0]\n",
    "\n",
    "    def get_number_of_level(self):\n",
    "        return self.level\n",
    "\n",
    "    def get_trades(self, combined=True, combination_interval=100):\n",
    "        pass\n",
    "    \n",
    "    def exclude_trade_halt_data(self):\n",
    "        halt_indicators = where(self.message.event == 7)\n",
    "        \n",
    "    def plot_orderbook(self):\n",
    "        pass"
   ]
  },
  {
   "cell_type": "markdown",
   "metadata": {},
   "source": [
    "\n",
    "Output Structure:\n",
    "---------------\n",
    "\n",
    "LOBSTER generates a 'message' and an 'orderbook' file for each active \n",
    "trading day of a selected ticker. The 'orderbook' file contains the \n",
    "evolution of the limit order book up to the requested number of levels. \n",
    "The 'message' file contains indicators for the type of event causing \n",
    "an update of the limit order book in the requested price range. All \n",
    "events are timestamped to seconds after midnight, with decimal \n",
    "precision of at least milliseconds and up to nanoseconds depending \n",
    "on the requested period. \n",
    "\n",
    "\n",
    "\tMessage File:\t\t(Matrix of size: (Nx6))\n",
    "\t-------------\t\n",
    "\t\t\t\n",
    "\tName: \tTICKER_Year-Month-Day_StartTime_EndTime_message_LEVEL.csv \t\n",
    "\t\t\n",
    "\t\tStartTime and EndTime give the theoretical beginning \n",
    "\t\tand end time of the output file in milliseconds after \t\t\n",
    "\t\tmid night. LEVEL refers to the number of levels of the \n",
    "\t\trequested limit order book.\n",
    "\n",
    "\n",
    "\tColumns:\n",
    "\t\n",
    "\t    1.) Time: \t\t\n",
    "\t\t\t\tSeconds after midnight with decimal \n",
    "\t\t\t\tprecision of at least milliseconds \n",
    "\t\t\t\tand up to nanoseconds depending on \n",
    "\t\t\t\tthe requested period\n",
    "\t    2.) Type:\n",
    "\t\t\t\t1: Submission of a new limit order\n",
    "\t\t\t\t2: Cancellation (Partial deletion \n",
    "\t\t\t\t   of a limit order)\n",
    "\t\t\t\t3: Deletion (Total deletion of a limit order)\n",
    "\t\t\t\t4: Execution of a visible limit order\t\t\t   \t \n",
    "\t\t\t\t5: Execution of a hidden limit order\n",
    "\t\t\t\t7: Trading halt indicator \t\t\t\t   \n",
    "\t\t\t\t   (Detailed information below)\n",
    "\t    3.) Order ID: \t\n",
    "\t\t\t\tUnique order reference number \n",
    "\t\t\t\t(Assigned in order flow)\n",
    "\t    4.) Size: \t\t\n",
    "\t\t\t\tNumber of shares\n",
    "\t    5.) Price: \t\t\n",
    "\t\t\t\tDollar price times 10000 \n",
    "\t\t\t\t(i.e., A stock price of $91.14 is given \n",
    "\t\t\t\tby 911400)\n",
    "\t    6.) Direction:\n",
    "\t\t\t\t-1: Sell limit order\n",
    "\t\t\t\t1: Buy limit order\n",
    "\t\t\t\t\n",
    "\t\t\t\tNote: \n",
    "\t\t\t\tExecution of a sell (buy) limit\n",
    "\t\t\t\torder corresponds to a buyer (seller) \n",
    "\t\t\t\tinitiated trade, i.e. Buy (Sell) trade.\n",
    "\t\t\t\t\t\t\t\t\t\t\n",
    "\t\t\t\t\t\t\n",
    "\tOrderbook File:\t\t(Matrix of size: (Nx(4xNumberOfLevels)))\n",
    "\t---------------\n",
    "\t\n",
    "\tName: \tTICKER_Year-Month-Day_StartTime_EndTime_orderbook_LEVEL.csv\n",
    "\t\n",
    "\tColumns:\n",
    "\t\n",
    " \t    1.) Ask Price 1: \tLevel 1 Ask Price \t(Best Ask)\n",
    "\t    2.) Ask Size 1: \tLevel 1 Ask Volume \t(Best Ask Volume)\n",
    "\t    3.) Bid Price 1: \tLevel 1 Bid Price \t(Best Bid)\n",
    "\t    4.) Bid Size 1: \tLevel 1 Bid Volume \t(Best Bid Volume)\n",
    "\t    5.) Ask Price 2: \tLevel 2 Ask Price \t(2nd Best Ask)\n",
    "\t    ...\n",
    "\t\n",
    "\tNotes: \t \n",
    "\t------\n",
    "\t\n",
    "\t\t- Levels:\n",
    "\t\t\n",
    "\t\tThe term level refers to occupied price levels. This implies \n",
    "\t\tthat the difference between two levels in the LOBSTER output \n",
    "\t\tis not necessarily the minimum ticks size.\n",
    "\n",
    "\t\t- Unoccupied Price Levels:\n",
    "\t\n",
    "\t\tWhen the selected number of levels exceeds the number of levels \n",
    "\t\tavailable the empty order book positions are filled with dummy \n",
    "\t\tinformation to guarantee a symmetric output. The extra bid \n",
    "\t\tand/or ask prices are set to -9999999999 and 9999999999, \n",
    "\t\trespectively. The Corresponding volumes are set to 0. \n",
    "\t\t\n",
    "\t\t- Trading Halts:\n",
    "\t\t\n",
    "\t\tWhen trading halts, a message of type '7' is written into the \n",
    "\t\t'message' file. The corresponding price and trade direction \n",
    "\t\tare set to '-1' and all other properties are set to '0'. \n",
    "\t\tShould the resume of quoting be indicated by an additional \n",
    "\t\tmessage in NASDAQ's Historical TotalView-ITCH files, another \n",
    "\t\tmessage of type '7' with price '0' is added to the 'message' \n",
    "\t\tfile. Again, the trade direction is set to '-1' and all other \n",
    "\t\tfields are set to '0'. \n",
    "\t\tWhen trading resumes a message of type '7' and \n",
    "\t\tprice '1' (Trade direction '-1' and all other \n",
    "\t\tentries '0') is written to the 'message' file. For messages \n",
    "\t\tof type '7', the corresponding order book rows contain a \n",
    "\t\tduplication of the preceding order book state. The reason \n",
    "\t\tfor the trading halt is not included in the output.\n",
    "\t\t\t\t\t\t\n",
    "\t\t\tExample: Stylized trading halt messages in 'message' file.\t\t\t\t\n",
    "\t\t\n",
    "\t\t\tHalt: \t\t\t\t36023\t| 7 | 0 | 0 | -1 | -1\n",
    "\t\t\t\t\t\t\t\t\t\t\t...\n",
    "\t\t\tQuoting: \t\t\t36323 \t| 7 | 0 | 0 | 0  | -1\n",
    "\t\t\t\t\t\t\t\t\t\t\t...\n",
    "\t\t\tResume Trading:\t\t36723   | 7 | 0 | 0 | 1  | -1\n",
    "\t\t\t\t\t\t\t\t\t\t\t...\n",
    "\n",
    "\t\t\tThe vertical bars indicate the different columns in the  \n",
    "\t\t\tmessage file.\n",
    "\n",
    "=========================================================================\n"
   ]
  },
  {
   "cell_type": "code",
   "execution_count": 5,
   "metadata": {
    "collapsed": true
   },
   "outputs": [],
   "source": [
    "d = LobsterData()"
   ]
  },
  {
   "cell_type": "code",
   "execution_count": 6,
   "metadata": {},
   "outputs": [
    {
     "name": "stderr",
     "output_type": "stream",
     "text": [
      "/Users/Cyril/anaconda/envs/data-x/lib/python3.6/site-packages/ipykernel_launcher.py:35: DeprecationWarning: parsing timezone aware datetimes is deprecated; this will raise an error in the future\n"
     ]
    }
   ],
   "source": [
    "d.read_single_day_data('AMZN_2012-06-21_34200000_57600000_orderbook_5.csv', 'AMZN_2012-06-21_34200000_57600000_message_5.csv', append=True, convert_time=False)"
   ]
  },
  {
   "cell_type": "code",
   "execution_count": 7,
   "metadata": {},
   "outputs": [
    {
     "name": "stdout",
     "output_type": "stream",
     "text": [
      "155935\n"
     ]
    }
   ],
   "source": [
    "print(d.get_number_of_record())"
   ]
  },
  {
   "cell_type": "code",
   "execution_count": 8,
   "metadata": {},
   "outputs": [
    {
     "name": "stdout",
     "output_type": "stream",
     "text": [
      "5\n"
     ]
    }
   ],
   "source": [
    "print(d.get_number_of_level())"
   ]
  },
  {
   "cell_type": "code",
   "execution_count": 9,
   "metadata": {
    "collapsed": true
   },
   "outputs": [],
   "source": [
    "ob = read_csv('AMZN_2012-06-21_34200000_57600000_orderbook_5.csv', header=None)\n",
    "mb = read_csv('AMZN_2012-06-21_34200000_57600000_message_5.csv', header=None)"
   ]
  },
  {
   "cell_type": "markdown",
   "metadata": {},
   "source": [
    "<b> PART 0 - GET THE RELEVANT STRUCTURES <br/>\n",
    "1- the 5-level limit order book --> used to get the S's <br/>\n",
    "2- the buy/sell limit orders placed --> used to get the L's <br/>\n",
    "3- the buy/sell market orders executed --> used to get the M's <br/>\n",
    "4- the buy/sell cancelled orders --> used to get the C's"
   ]
  },
  {
   "cell_type": "code",
   "execution_count": 10,
   "metadata": {},
   "outputs": [
    {
     "data": {
      "text/html": [
       "<div>\n",
       "<style>\n",
       "    .dataframe thead tr:only-child th {\n",
       "        text-align: right;\n",
       "    }\n",
       "\n",
       "    .dataframe thead th {\n",
       "        text-align: left;\n",
       "    }\n",
       "\n",
       "    .dataframe tbody tr th {\n",
       "        vertical-align: top;\n",
       "    }\n",
       "</style>\n",
       "<table border=\"1\" class=\"dataframe\">\n",
       "  <thead>\n",
       "    <tr style=\"text-align: right;\">\n",
       "      <th></th>\n",
       "      <th></th>\n",
       "      <th>Ask_Price_1</th>\n",
       "      <th>Ask_Size_1</th>\n",
       "      <th>Bid_Price_1</th>\n",
       "      <th>Bid_Size_1</th>\n",
       "      <th>Ask_Price_2</th>\n",
       "      <th>Ask_Size_2</th>\n",
       "      <th>Bid_Price_2</th>\n",
       "      <th>Bid_Size_2</th>\n",
       "      <th>Ask_Price_3</th>\n",
       "      <th>Ask_Size_3</th>\n",
       "      <th>...</th>\n",
       "      <th>Bid_Size_3</th>\n",
       "      <th>Ask_Price_4</th>\n",
       "      <th>Ask_Size_4</th>\n",
       "      <th>Bid_Price_4</th>\n",
       "      <th>Bid_Size_4</th>\n",
       "      <th>Ask_Price_5</th>\n",
       "      <th>Ask_Size_5</th>\n",
       "      <th>Bid_Price_5</th>\n",
       "      <th>Bid_Size_5</th>\n",
       "      <th>Time</th>\n",
       "    </tr>\n",
       "    <tr>\n",
       "      <th>Date</th>\n",
       "      <th>Time</th>\n",
       "      <th></th>\n",
       "      <th></th>\n",
       "      <th></th>\n",
       "      <th></th>\n",
       "      <th></th>\n",
       "      <th></th>\n",
       "      <th></th>\n",
       "      <th></th>\n",
       "      <th></th>\n",
       "      <th></th>\n",
       "      <th></th>\n",
       "      <th></th>\n",
       "      <th></th>\n",
       "      <th></th>\n",
       "      <th></th>\n",
       "      <th></th>\n",
       "      <th></th>\n",
       "      <th></th>\n",
       "      <th></th>\n",
       "      <th></th>\n",
       "      <th></th>\n",
       "    </tr>\n",
       "  </thead>\n",
       "  <tbody>\n",
       "    <tr>\n",
       "      <th rowspan=\"5\" valign=\"top\">2012-06-21</th>\n",
       "      <th>57599.545828</th>\n",
       "      <td>2206200</td>\n",
       "      <td>100</td>\n",
       "      <td>2205100</td>\n",
       "      <td>249</td>\n",
       "      <td>2206400</td>\n",
       "      <td>100</td>\n",
       "      <td>2205000</td>\n",
       "      <td>71</td>\n",
       "      <td>2206500</td>\n",
       "      <td>1290</td>\n",
       "      <td>...</td>\n",
       "      <td>700</td>\n",
       "      <td>2206700</td>\n",
       "      <td>170</td>\n",
       "      <td>2204700</td>\n",
       "      <td>100</td>\n",
       "      <td>2206900</td>\n",
       "      <td>170</td>\n",
       "      <td>2204600</td>\n",
       "      <td>1704</td>\n",
       "      <td>57599.545828</td>\n",
       "    </tr>\n",
       "    <tr>\n",
       "      <th>57599.903989</th>\n",
       "      <td>2206400</td>\n",
       "      <td>100</td>\n",
       "      <td>2205100</td>\n",
       "      <td>249</td>\n",
       "      <td>2206500</td>\n",
       "      <td>1290</td>\n",
       "      <td>2205000</td>\n",
       "      <td>71</td>\n",
       "      <td>2206700</td>\n",
       "      <td>170</td>\n",
       "      <td>...</td>\n",
       "      <td>700</td>\n",
       "      <td>2206900</td>\n",
       "      <td>170</td>\n",
       "      <td>2204700</td>\n",
       "      <td>100</td>\n",
       "      <td>2207100</td>\n",
       "      <td>1800</td>\n",
       "      <td>2204600</td>\n",
       "      <td>1704</td>\n",
       "      <td>57599.903989</td>\n",
       "    </tr>\n",
       "    <tr>\n",
       "      <th>57599.955242</th>\n",
       "      <td>2206400</td>\n",
       "      <td>100</td>\n",
       "      <td>2205100</td>\n",
       "      <td>249</td>\n",
       "      <td>2206500</td>\n",
       "      <td>1290</td>\n",
       "      <td>2205000</td>\n",
       "      <td>71</td>\n",
       "      <td>2206700</td>\n",
       "      <td>170</td>\n",
       "      <td>...</td>\n",
       "      <td>700</td>\n",
       "      <td>2207100</td>\n",
       "      <td>1800</td>\n",
       "      <td>2204700</td>\n",
       "      <td>100</td>\n",
       "      <td>2207400</td>\n",
       "      <td>800</td>\n",
       "      <td>2204600</td>\n",
       "      <td>1704</td>\n",
       "      <td>57599.955242</td>\n",
       "    </tr>\n",
       "    <tr>\n",
       "      <th>57599.958245</th>\n",
       "      <td>2206300</td>\n",
       "      <td>100</td>\n",
       "      <td>2205100</td>\n",
       "      <td>249</td>\n",
       "      <td>2206400</td>\n",
       "      <td>100</td>\n",
       "      <td>2205000</td>\n",
       "      <td>71</td>\n",
       "      <td>2206500</td>\n",
       "      <td>1290</td>\n",
       "      <td>...</td>\n",
       "      <td>700</td>\n",
       "      <td>2206700</td>\n",
       "      <td>170</td>\n",
       "      <td>2204700</td>\n",
       "      <td>100</td>\n",
       "      <td>2207100</td>\n",
       "      <td>1800</td>\n",
       "      <td>2204600</td>\n",
       "      <td>1704</td>\n",
       "      <td>57599.958245</td>\n",
       "    </tr>\n",
       "    <tr>\n",
       "      <th>57599.959360</th>\n",
       "      <td>2206400</td>\n",
       "      <td>100</td>\n",
       "      <td>2205100</td>\n",
       "      <td>249</td>\n",
       "      <td>2206500</td>\n",
       "      <td>1290</td>\n",
       "      <td>2205000</td>\n",
       "      <td>71</td>\n",
       "      <td>2206700</td>\n",
       "      <td>170</td>\n",
       "      <td>...</td>\n",
       "      <td>700</td>\n",
       "      <td>2207100</td>\n",
       "      <td>1800</td>\n",
       "      <td>2204700</td>\n",
       "      <td>100</td>\n",
       "      <td>2207400</td>\n",
       "      <td>800</td>\n",
       "      <td>2204600</td>\n",
       "      <td>1704</td>\n",
       "      <td>57599.959360</td>\n",
       "    </tr>\n",
       "  </tbody>\n",
       "</table>\n",
       "<p>5 rows × 21 columns</p>\n",
       "</div>"
      ],
      "text/plain": [
       "                         Ask_Price_1  Ask_Size_1  Bid_Price_1  Bid_Size_1  \\\n",
       "Date       Time                                                             \n",
       "2012-06-21 57599.545828      2206200         100      2205100         249   \n",
       "           57599.903989      2206400         100      2205100         249   \n",
       "           57599.955242      2206400         100      2205100         249   \n",
       "           57599.958245      2206300         100      2205100         249   \n",
       "           57599.959360      2206400         100      2205100         249   \n",
       "\n",
       "                         Ask_Price_2  Ask_Size_2  Bid_Price_2  Bid_Size_2  \\\n",
       "Date       Time                                                             \n",
       "2012-06-21 57599.545828      2206400         100      2205000          71   \n",
       "           57599.903989      2206500        1290      2205000          71   \n",
       "           57599.955242      2206500        1290      2205000          71   \n",
       "           57599.958245      2206400         100      2205000          71   \n",
       "           57599.959360      2206500        1290      2205000          71   \n",
       "\n",
       "                         Ask_Price_3  Ask_Size_3      ...       Bid_Size_3  \\\n",
       "Date       Time                                       ...                    \n",
       "2012-06-21 57599.545828      2206500        1290      ...              700   \n",
       "           57599.903989      2206700         170      ...              700   \n",
       "           57599.955242      2206700         170      ...              700   \n",
       "           57599.958245      2206500        1290      ...              700   \n",
       "           57599.959360      2206700         170      ...              700   \n",
       "\n",
       "                         Ask_Price_4  Ask_Size_4  Bid_Price_4  Bid_Size_4  \\\n",
       "Date       Time                                                             \n",
       "2012-06-21 57599.545828      2206700         170      2204700         100   \n",
       "           57599.903989      2206900         170      2204700         100   \n",
       "           57599.955242      2207100        1800      2204700         100   \n",
       "           57599.958245      2206700         170      2204700         100   \n",
       "           57599.959360      2207100        1800      2204700         100   \n",
       "\n",
       "                         Ask_Price_5  Ask_Size_5  Bid_Price_5  Bid_Size_5  \\\n",
       "Date       Time                                                             \n",
       "2012-06-21 57599.545828      2206900         170      2204600        1704   \n",
       "           57599.903989      2207100        1800      2204600        1704   \n",
       "           57599.955242      2207400         800      2204600        1704   \n",
       "           57599.958245      2207100        1800      2204600        1704   \n",
       "           57599.959360      2207400         800      2204600        1704   \n",
       "\n",
       "                                 Time  \n",
       "Date       Time                        \n",
       "2012-06-21 57599.545828  57599.545828  \n",
       "           57599.903989  57599.903989  \n",
       "           57599.955242  57599.955242  \n",
       "           57599.958245  57599.958245  \n",
       "           57599.959360  57599.959360  \n",
       "\n",
       "[5 rows x 21 columns]"
      ]
     },
     "execution_count": 10,
     "metadata": {},
     "output_type": "execute_result"
    }
   ],
   "source": [
    "# 1- the 5-level limit order book\n",
    "lob = d.order_books\n",
    "Time = []\n",
    "Date = []\n",
    "for idx,row in lob.iterrows():\n",
    "    Time.append(idx[1])\n",
    "lob['Time'] = Time\n",
    "lob.tail()"
   ]
  },
  {
   "cell_type": "code",
   "execution_count": 11,
   "metadata": {},
   "outputs": [
    {
     "name": "stdout",
     "output_type": "stream",
     "text": [
      "                   0  1          2    3        4  5\n",
      "155886  57598.107097  1  287075582  100  2205600  1\n",
      "155892  57598.316250  1  287087236  100  2205700  1\n",
      "155897  57598.359060  1  287089309  100  2205400  1\n",
      "155911  57599.103251  1  287126323  100  2204800  1\n",
      "155924  57599.403081  1  287148338  100  2204800  1\n",
      "\n",
      "                   0  1          2    3        4  5\n",
      "155916  57599.241943  1  287140757  100  2206100 -1\n",
      "155920  57599.282618  1  287142670   25  2206500 -1\n",
      "155921  57599.285831  1  287142900  100  2206200 -1\n",
      "155926  57599.503155  1  287154282  170  2206700 -1\n",
      "155933  57599.958245  1  287174077  100  2206300 -1\n"
     ]
    }
   ],
   "source": [
    "# 2- the buy/sell limit orders placed --> used to get the L's \n",
    "limit_b = mb[(mb[1] == 1) & (mb[5] == 1)]\n",
    "print(limit_b.tail())\n",
    "print()\n",
    "limit_s = mb[(mb[1] == 1) & (mb[5] == -1)]\n",
    "print(limit_s.tail())"
   ]
  },
  {
   "cell_type": "code",
   "execution_count": 12,
   "metadata": {},
   "outputs": [
    {
     "name": "stdout",
     "output_type": "stream",
     "text": [
      "                   0  1          2    3        4  5\n",
      "155907  57599.061375  4  286888769  100  2205300  1\n",
      "155914  57599.241762  4  286932759  100  2205200  1\n",
      "155923  57599.402707  4  282917222   91  2205100  1\n",
      "155929  57599.545828  4  282917222    9  2205100  1\n",
      "155930  57599.545828  4  286916542   51  2205100  1\n",
      "\n",
      "                   0  1          2    3        4  5\n",
      "155884  57598.103362  4  287061322  100  2206300 -1\n",
      "155889  57598.212719  5          0  139  2206300 -1\n",
      "155890  57598.234339  5          0  100  2206300 -1\n",
      "155900  57598.401009  5          0   47  2206300 -1\n",
      "155917  57599.242004  4  287140745    9  2205300 -1\n"
     ]
    }
   ],
   "source": [
    "# 3- the buy/sell market orders executed --> used to get the M's \n",
    "market_b = mb[((mb[1] == 4) | (mb[1] == 5)) & (mb[5] == 1)]\n",
    "print(market_b.tail())\n",
    "print()\n",
    "market_s = mb[((mb[1] == 4) | (mb[1] == 5)) & (mb[5] == -1)]\n",
    "print(market_s.tail())"
   ]
  },
  {
   "cell_type": "code",
   "execution_count": 13,
   "metadata": {},
   "outputs": [
    {
     "name": "stdout",
     "output_type": "stream",
     "text": [
      "                   0  1          2    3        4  5\n",
      "151839  57304.682464  2  280776581  100  2207100  1\n",
      "151848  57304.982408  2  280821524  100  2207000  1\n",
      "151919  57306.461035  2  280940784  100  2207400  1\n",
      "151932  57306.817562  2  280943766  100  2207300  1\n",
      "152249  57339.583033  2  281810239  100  2206600  1\n",
      "\n",
      "                   0  1          2    3        4  5\n",
      "150910  57176.063800  2  278443627  100  2207800 -1\n",
      "152263  57339.770757  2  281835804  100  2209100 -1\n",
      "153679  57528.982702  2  285243806  100  2209000 -1\n",
      "153720  57529.935330  2  285251964  100  2208800 -1\n",
      "154578  57559.174394  2  285821811  100  2207900 -1\n"
     ]
    }
   ],
   "source": [
    "# 4- the buy/sell cancelled orders --> used to get the C's\n",
    "cancelled_b = mb[(mb[1] == 2) & (mb[5] == 1)]\n",
    "print(cancelled_b.tail())\n",
    "print()\n",
    "cancelled_s = mb[(mb[1] == 2) & (mb[5] == -1)]\n",
    "print(cancelled_s.tail())"
   ]
  },
  {
   "cell_type": "markdown",
   "metadata": {},
   "source": [
    "<b> PART 1 - the generic function to return the feature and label vectors"
   ]
  },
  {
   "cell_type": "code",
   "execution_count": 14,
   "metadata": {
    "collapsed": true
   },
   "outputs": [],
   "source": [
    "# this function will return the feature and label vectors.\n",
    "# in order to determine the linear market impact c (on either buy/sell)\n",
    "# it takes as input:\n",
    "#    - the limit order book lob (previously built)\n",
    "#    - the buy/sell limit orders limit_{b/s} (previously built)\n",
    "#    - the buy/sell cancelled orders cancelled_{b/s} (previously built)\n",
    "#    - the sell/buy market orders C (previously built)\n",
    "#    - lob, L, M, C the required structures\n",
    "#    - buy_sell (0/1 respectively)\n",
    "#    - the desired time period D (in seconds)\n",
    "def get_features_labels(lob, limit, cancelled, market_b, market_s, buy_sell, D):\n",
    "    X = []\n",
    "    y = []\n",
    "    #start = lob['Time'].iloc[0]\n",
    "    #end = lob['Time'].iloc[-1]\n",
    "    start = lob['Time'].iloc[0] + 3600\n",
    "    end = start + 5400\n",
    "    while(start < end):\n",
    "        \n",
    "        x = []\n",
    "        \n",
    "        # a- get the corresponding OFI(t,t+D)\n",
    "        # how? we just count the parameters L,C,M\n",
    "        # and we \"estimate\" the average depth of a level i.e. number of shares by level in the lob\n",
    "        \n",
    "        # here we compute the parameters L,C,M\n",
    "        limit_cur = limit[(limit[0] >= start) & (limit[0] <= start + D)] \n",
    "        L = 0 # number of buy/sell limit orders\n",
    "        for idx,row in limit_cur.iterrows():\n",
    "            L = L + row[3]\n",
    "        cancelled_cur = cancelled[(cancelled[0] >= start) & (cancelled[0] <= start + D)]\n",
    "        C = 0 # number of sell/buy cancelled orders\n",
    "        for idx,row in cancelled_cur.iterrows():\n",
    "            C = C + row[3]\n",
    "        market_cur = market_s[(market_s[0] >= start) & (market_s[0] <= start + D)]\n",
    "        M = 0 # number of sell/buy market orders\n",
    "        for idx,row in market_cur.iterrows():\n",
    "            M = M + row[3]\n",
    "        # here we estimate the average depth of a level in the lob\n",
    "        lob1 = lob[(lob['Time'] >= start) & (lob['Time'] <= start + 1)]\n",
    "        lob2 = lob[(lob['Time'] >= start + D) & (lob['Time'] <= start + D + 1)]\n",
    "        if(lob1.size==0 or lob2.size==0):\n",
    "            start = start + D\n",
    "            continue\n",
    "        \"\"\"\n",
    "        avg_D = 0\n",
    "        for i in range(5): # 5-level LOB\n",
    "            label = 'Bid_Size_' + str(i+1)\n",
    "            if(buy_sell == 1):\n",
    "                label = 'Ask_Size_' + str(i+1)\n",
    "            avg_D = avg_D + lob1[label].iloc[0] + lob2[label].iloc[0]\n",
    "        avg_D = avg_D / 10\n",
    "        \"\"\"\n",
    "        # here we append our example to our feature vector\n",
    "        val = (L-C-M) # buy --> n1 was added, n2 & n3 were removed (from the lob)\n",
    "        if(buy_sell == 1):\n",
    "            val = -(L-C-M) # sell --> similar, but influences in the other direction the change of price\n",
    "        # here we filter some bad examples\n",
    "        if(buy_sell == 0 and (val > 2000 or val < 0)):\n",
    "            start = start + D\n",
    "            continue\n",
    "        if(buy_sell == 1 and (val < -2000 or val > 0)):\n",
    "            start = start + D\n",
    "            continue\n",
    "        x.append(val)\n",
    "        \n",
    "        # b- total order flow\n",
    "        x.append(L+C+M)\n",
    "        \n",
    "        # c- trade flow imbalance\n",
    "        market_cur = market_b[(market_b[0] >= start) & (market_b[0] <= start + D)]\n",
    "        M_2 = 0 # number of sell/buy market orders\n",
    "        for idx,row in market_cur.iterrows():\n",
    "            M_2 = M_2 + row[3]\n",
    "        x.append(M_2 - M)\n",
    "        \n",
    "        # d- volume\n",
    "        x.append(M_2 + M)\n",
    "        \n",
    "        \"\"\"\n",
    "        # e- change in spread\n",
    "        delta_spread = ((lob2['Ask_Price_1'].iloc[0] - lob2['Bid_Price_1'].iloc[0])\\\n",
    "                 -(lob1['Ask_Price_1'].iloc[0] - lob1['Bid_Price_1'].iloc[0]))/100\n",
    "        x.append(delta_spread)\n",
    "        \"\"\"\n",
    "        \n",
    "        X.append(x)\n",
    "        # f- get the corresponding label (S(t+D)-S(t))/d\n",
    "        Delta_S = (0.5*(lob2['Ask_Price_1'].iloc[0] + lob2['Bid_Price_1'].iloc[0])\\\n",
    "                 -0.5*(lob1['Ask_Price_1'].iloc[0] + lob1['Bid_Price_1'].iloc[0]))/100\n",
    "        y.append(Delta_S)\n",
    "        \n",
    "        # g- next time period\n",
    "        start = start + D\n",
    "        \n",
    "    X = np.array(X)\n",
    "    y = np.array(y)\n",
    "    y = y.reshape((y.shape[0],1))\n",
    "    # shuffle them similarly\n",
    "    from sklearn.utils import shuffle\n",
    "    X, y = shuffle(X, y, random_state=0)\n",
    "    \n",
    "    return X,y"
   ]
  },
  {
   "cell_type": "markdown",
   "metadata": {},
   "source": [
    "<b> PART 2 - OLS function"
   ]
  },
  {
   "cell_type": "code",
   "execution_count": 15,
   "metadata": {
    "collapsed": true
   },
   "outputs": [],
   "source": [
    "# this function performs OLS on X,y.\n",
    "# takes also as a parameter buy_sell and D for the plots\n",
    "def OLS(X,y,buy_sell,D):\n",
    "    \n",
    "    # 1- OLS\n",
    "    from sklearn import datasets, linear_model\n",
    "    from sklearn.metrics import mean_squared_error, r2_score\n",
    "    X_train = X[:int(3*len(X)/4)]\n",
    "    X_test = X[-int(len(X)/4):]\n",
    "    y_train = y[:int(3*len(X)/4)]\n",
    "    y_test = y[-int(len(X)/4):]\n",
    "    regr = linear_model.LinearRegression()\n",
    "    regr.fit(X_train, y_train)\n",
    "    y_pred = regr.predict(X_test)\n",
    "    print('Coefficients: \\n', regr.coef_)\n",
    "    print(\"Mean squared error: %.2f\"\n",
    "          % mean_squared_error(y_test, y_pred))\n",
    "    print('Variance score: %.2f' % r2_score(y_test, y_pred))\n",
    "    \n",
    "    # 2- qq-plot of y_test - y_pred against normal distribution\n",
    "    import pylab \n",
    "    import scipy.stats as stats\n",
    "    measurements = y_test[:,0] - y_pred[:,0]\n",
    "    stats.probplot(measurements, dist=\"norm\", plot=pylab)\n",
    "    pylab.title('qq-plot against normal')\n",
    "    pylab.show()\n",
    "    \n",
    "    # 3- qq-plot of y_test - y_pred against uniform distribution\n",
    "    measurements = y_test[:,0] - y_pred[:,0]\n",
    "    stats.probplot(measurements, dist=\"uniform\", plot=pylab)\n",
    "    pylab.title('qq-plot against uniform')\n",
    "    pylab.show()"
   ]
  },
  {
   "cell_type": "markdown",
   "metadata": {},
   "source": [
    "<b> PART 3 - some tests on OLS"
   ]
  },
  {
   "cell_type": "code",
   "execution_count": 16,
   "metadata": {
    "collapsed": true
   },
   "outputs": [],
   "source": [
    "# get the features and labels vectors for buy/sell for a sec\n",
    "X_buy, y_buy = get_features_labels(lob, limit_b, cancelled_b, market_b, market_s, 0, 1)"
   ]
  },
  {
   "cell_type": "code",
   "execution_count": 17,
   "metadata": {},
   "outputs": [
    {
     "name": "stdout",
     "output_type": "stream",
     "text": [
      "[[ 623.  623.    0.    0.]\n",
      " [ 727.  727.    0.    0.]\n",
      " [ 566.  572.   -3.    3.]\n",
      " ..., \n",
      " [   0.    0.    0.    0.]\n",
      " [ 100.  100.    0.    0.]\n",
      " [ 167.  167.    0.    0.]]\n",
      "\n",
      "[[-1.5]\n",
      " [-1. ]\n",
      " [ 9. ]\n",
      " ..., \n",
      " [ 0. ]\n",
      " [ 0. ]\n",
      " [-1.5]]\n"
     ]
    }
   ],
   "source": [
    "print(X_buy)\n",
    "print()\n",
    "print(y_buy)"
   ]
  },
  {
   "cell_type": "code",
   "execution_count": 18,
   "metadata": {},
   "outputs": [
    {
     "name": "stdout",
     "output_type": "stream",
     "text": [
      "Coefficients: \n",
      " [[ 0.01053362 -0.00932581 -0.01450338  0.01037531]]\n",
      "Mean squared error: 3.95\n",
      "Variance score: 0.27\n"
     ]
    },
    {
     "data": {
      "image/png": "[encoded data removed]",
      "text/plain": [
       "<matplotlib.figure.Figure at 0x116f5a780>"
      ]
     },
     "metadata": {},
     "output_type": "display_data"
    },
    {
     "data": {
      "image/png": "[encoded data removed]",
      "text/plain": [
       "<matplotlib.figure.Figure at 0x111308cc0>"
      ]
     },
     "metadata": {},
     "output_type": "display_data"
    }
   ],
   "source": [
    "# try OLS\n",
    "OLS(X_buy, y_buy, 'buy', 1)"
   ]
  },
  {
   "cell_type": "markdown",
   "metadata": {},
   "source": [
    "<b> PART 4 - Decision Tree"
   ]
  },
  {
   "cell_type": "code",
   "execution_count": 83,
   "metadata": {},
   "outputs": [],
   "source": [
    "# discretize labels\n",
    "y_dis = np.zeros(y_buy.size)\n",
    "for i in range(y_buy.size):\n",
    "    if(y_buy[i] < -5):\n",
    "        y_dis[i] = -2\n",
    "    elif(y_buy[i] < 0):\n",
    "        y_dis[i] = -1\n",
    "    elif(y_buy[i] == 0):\n",
    "        y_dis[i] = 0\n",
    "    elif(y_buy[i] < 5):\n",
    "        y_dis[i] = 1\n",
    "    else:\n",
    "        y_dis[i] = 2"
   ]
  },
  {
   "cell_type": "code",
   "execution_count": 84,
   "metadata": {},
   "outputs": [
    {
     "name": "stdout",
     "output_type": "stream",
     "text": [
      "total labels =  2879\n",
      "-2 labels =  70\n",
      "-1 labels =  654\n",
      "0 labels =  1526\n",
      "+1 labels =  537\n",
      "+2 labels =  92\n"
     ]
    }
   ],
   "source": [
    "print('total labels = ',y_dis.size)\n",
    "print('-2 labels = ',y_dis[y_dis == -2].size)\n",
    "print('-1 labels = ',y_dis[y_dis == -1].size)\n",
    "print('0 labels = ',y_dis[y_dis == 0].size)\n",
    "print('+1 labels = ',y_dis[y_dis == 1].size)\n",
    "print('+2 labels = ',y_dis[y_dis == 2].size)"
   ]
  },
  {
   "cell_type": "code",
   "execution_count": 85,
   "metadata": {
    "collapsed": true
   },
   "outputs": [],
   "source": [
    "# this function performs DT on X,y.\n",
    "# takes also as a parameter buy_sell and D for the plots\n",
    "def DT(X,y,buy_sell,D):\n",
    "    \n",
    "    # 1- DT\n",
    "    from sklearn import datasets, tree\n",
    "    from sklearn.metrics import accuracy_score, r2_score\n",
    "    X_train = X[:int(3*len(X)/4)]\n",
    "    X_test = X[-int(len(X)/4):]\n",
    "    y_train = y[:int(3*len(X)/4)]\n",
    "    y_test = y[-int(len(X)/4):]\n",
    "    \n",
    "    clf = tree.DecisionTreeClassifier(max_depth = 3, min_samples_split = 10)\n",
    "    clf.fit(X_train, y_train)\n",
    "    y_pred = clf.predict(X_test)\n",
    "    print(\"Accuracy: %.2f\"\n",
    "          % accuracy_score(y_test, y_pred))\n",
    "    print('Variance score: %.2f' % r2_score(y_test, y_pred))\n",
    "    \n",
    "    # 2- draw the tree\n",
    "    import io\n",
    "    import pydot\n",
    "    feature_names = ['OFI','TF','TI','VOL']\n",
    "    target_names = ['strong decrease','decrease','no change','increase','strong increase']\n",
    "    out = io.StringIO()\n",
    "    tree.export_graphviz(\n",
    "        clf, out_file=out, feature_names=feature_names, class_names=target_names)\n",
    "    graph = pydot.graph_from_dot_data(out.getvalue())\n",
    "    pydot.graph_from_dot_data(out.getvalue())[0].write_pdf(\"price_impact-tree_2.pdf\")"
   ]
  },
  {
   "cell_type": "code",
   "execution_count": 86,
   "metadata": {},
   "outputs": [
    {
     "name": "stdout",
     "output_type": "stream",
     "text": [
      "Accuracy: 0.62\n",
      "Variance score: 0.18\n"
     ]
    }
   ],
   "source": [
    "# try DT\n",
    "DT(X_buy, y_dis, 'buy', 1)"
   ]
  },
  {
   "cell_type": "code",
   "execution_count": null,
   "metadata": {
    "collapsed": true
   },
   "outputs": [],
   "source": []
  }
 ],
 "metadata": {
  "kernelspec": {
   "display_name": "Python 3",
   "language": "python",
   "name": "python3"
  },
  "language_info": {
   "codemirror_mode": {
    "name": "ipython",
    "version": 3
   },
   "file_extension": ".py",
   "mimetype": "text/x-python",
   "name": "python",
   "nbconvert_exporter": "python",
   "pygments_lexer": "ipython3",
   "version": "3.6.1"
  }
 },
 "nbformat": 4,
 "nbformat_minor": 2
}
