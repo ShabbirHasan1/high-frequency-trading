{
 "cells": [
  {
   "cell_type": "markdown",
   "metadata": {},
   "source": [
    "<b> import statements"
   ]
  },
  {
   "cell_type": "code",
   "execution_count": 2,
   "metadata": {
    "collapsed": true
   },
   "outputs": [],
   "source": [
    "import sys\n",
    "\n",
    "import numpy as np\n",
    "import pandas as pd\n",
    "import datetime\n",
    "import time\n",
    "\n",
    "\n",
    "import requests\n",
    "import re\n",
    "from bs4 import BeautifulSoup\n",
    "from time import sleep\n",
    "import pickle\n",
    "\n",
    "import matplotlib.pyplot as plt\n",
    "import seaborn as sns\n",
    "%matplotlib inline\n",
    "\n",
    "sns.set_style(\"whitegrid\", {'axes.grid' : False})"
   ]
  },
  {
   "cell_type": "code",
   "execution_count": 3,
   "metadata": {},
   "outputs": [
    {
     "name": "stderr",
     "output_type": "stream",
     "text": [
      "/Users/Cyril/anaconda/envs/data-x/lib/python3.6/site-packages/sklearn/cross_validation.py:41: DeprecationWarning: This module was deprecated in version 0.18 in favor of the model_selection module into which all the refactored classes and functions are moved. Also note that the interface of the new CV iterators are different from that of this module. This module will be removed in 0.20.\n",
      "  \"This module will be removed in 0.20.\", DeprecationWarning)\n",
      "/Users/Cyril/anaconda/envs/data-x/lib/python3.6/site-packages/sklearn/grid_search.py:42: DeprecationWarning: This module was deprecated in version 0.18 in favor of the model_selection module into which all the refactored classes and functions are moved. This module will be removed in 0.20.\n",
      "  DeprecationWarning)\n",
      "/Users/Cyril/anaconda/envs/data-x/lib/python3.6/site-packages/sklearn/learning_curve.py:22: DeprecationWarning: This module was deprecated in version 0.18 in favor of the model_selection module into which all the functions are moved. This module will be removed in 0.20\n",
      "  DeprecationWarning)\n"
     ]
    }
   ],
   "source": [
    "from sklearn import cross_validation, datasets, linear_model, grid_search, metrics, ensemble, tree\n",
    "from sklearn import pipeline, manifold, preprocessing, feature_selection, decomposition\n",
    "from sklearn.preprocessing import PolynomialFeatures, StandardScaler, MinMaxScaler\n",
    "from sklearn.learning_curve import learning_curve\n",
    "from sklearn.cross_validation import cross_val_score\n",
    "\n",
    "# Classifiers\n",
    "from sklearn.linear_model import LogisticRegression\n",
    "from sklearn.neighbors import KNeighborsClassifier\n",
    "from sklearn.naive_bayes import GaussianNB\n",
    "from sklearn.svm import SVC\n",
    "from sklearn.tree import DecisionTreeClassifier\n",
    "from sklearn.ensemble import RandomForestClassifier\n",
    "from sklearn.ensemble import AdaBoostClassifier\n",
    "from sklearn.ensemble import ExtraTreesClassifier\n",
    "from sklearn.ensemble import GradientBoostingClassifier"
   ]
  },
  {
   "cell_type": "code",
   "execution_count": 4,
   "metadata": {
    "collapsed": true
   },
   "outputs": [],
   "source": [
    "from pandas import Series, DataFrame, Panel\n",
    "import scipy; \n",
    "import scipy.stats as stats; \n",
    "from scipy.stats import ttest_ind, ttest_ind_from_stats; from scipy.special import stdtr; "
   ]
  },
  {
   "cell_type": "markdown",
   "metadata": {},
   "source": [
    "<b> defining lobster"
   ]
  },
  {
   "cell_type": "code",
   "execution_count": 5,
   "metadata": {
    "collapsed": true
   },
   "outputs": [],
   "source": [
    "from pandas import DataFrame, read_csv, concat\n",
    "from os import path\n",
    "import numpy as np\n",
    "from datetime import timedelta\n",
    "from enum import Enum\n",
    "\n",
    "class OrderEvent(Enum):\n",
    "    SUBMISSION = 1\n",
    "    CANCELLATION = 2\n",
    "    DELETION = 3\n",
    "    EXECUTION = 4\n",
    "    HIDDEN_EXECUTION =5\n",
    "    CROSS_TRADE = 6\n",
    "    TRADING_HALT  = 7\n",
    "    OTHER = 8\n",
    "\n",
    "__EventMap = {}\n",
    "\n",
    "for e in OrderEvent:\n",
    "    __EventMap[e.value] = e\n",
    "\n",
    "def get_orderEvent(eventid):\n",
    "    return __EventMap[eventid]\n",
    "\n",
    "\n",
    "class LobsterData:\n",
    "    def __init__(self):\n",
    "        self.order_books = None\n",
    "        self.messages = DataFrame()\n",
    "        self.level = 0\n",
    "\n",
    "    def read_single_day_data(self, order_book_file, message_file, append=True, convert_time=False):\n",
    "        file_name = path.basename(order_book_file)\n",
    "        file_base = path.splitext(file_name)[0]\n",
    "        mydate = np.datetime64('{0}T00:00-0000'.format(file_base.split('_')[1]))\n",
    "\n",
    "        myorderbooks = read_csv(order_book_file, header=None)\n",
    "        mymessages = read_csv(message_file, header=None)\n",
    "        columns = []\n",
    "        for iCol in range(int(len(myorderbooks.columns) / 4 + 0.5)):\n",
    "            columns.append('Ask_Price_{0}'.format(iCol + 1))\n",
    "            columns.append('Ask_Size_{0}'.format(iCol + 1))\n",
    "            columns.append('Bid_Price_{0}'.format(iCol + 1))\n",
    "            columns.append('Bid_Size_{0}'.format(iCol + 1))\n",
    "        myorderbooks.columns = columns\n",
    "        mymessages.columns = ['Time', 'Event', 'Order_ID', 'Size', 'Price', 'Direction']\n",
    "        mymessages.Event = mymessages['Event'].map(get_orderEvent)\n",
    "        mymessages['Date'] = mydate\n",
    "        if convert_time:\n",
    "            mymessages.Time = mymessages.Time.apply(lambda x: mydate + np.timedelta64(int(x * 1e9), 'ns'))\n",
    "\n",
    "        mymessages.set_index(['Date', 'Time'], inplace=True)\n",
    "        myorderbooks.index = mymessages.index\n",
    "\n",
    "        if append:\n",
    "            self.order_books = concat([self.order_books, myorderbooks], axis=0)\n",
    "            self.messages = concat([self.messages, mymessages], axis=0)\n",
    "        else:\n",
    "            self.order_books = myorderbooks\n",
    "            self.messages = mymessages\n",
    "        self.level = int(self.order_books.shape[1] / 4 + 0.5)\n",
    "\n",
    "    def read_period_data(self, ticker, level, start_date, end_date, data_path='./', **kwargs):\n",
    "        my_date = start_date\n",
    "        while my_date <= end_date:\n",
    "            print('read {0}'.format(my_date.strftime('%Y-%m-%d')))\n",
    "            order_book_file = \"{0}/{1}_{2}_34200000_57600000_orderbook_{3}.csv\".format(data_path, ticker,\n",
    "                                                                                       my_date.strftime('%Y-%m-%d'),\n",
    "                                                                                       level)\n",
    "\n",
    "            message_file = \"{0}/{1}_{2}_34200000_57600000_message_{3}.csv\".format(data_path, ticker,\n",
    "                                                                                       my_date.strftime('%Y-%m-%d'),\n",
    "                                                                                       level)\n",
    "            self.read_single_day_data(order_book_file, message_file, **kwargs)\n",
    "            my_date += timedelta(1)\n",
    "\n",
    "    def get_number_of_record(self):\n",
    "        return self.order_books.shape[0]\n",
    "\n",
    "    def get_number_of_level(self):\n",
    "        return self.level\n",
    "\n",
    "    def get_trades(self, combined=True, combination_interval=100):\n",
    "        pass\n",
    "    \n",
    "    def exclude_trade_halt_data(self):\n",
    "        halt_indicators = where(self.message.event == 7)\n",
    "        \n",
    "    def plot_orderbook(self):\n",
    "        pass"
   ]
  },
  {
   "cell_type": "markdown",
   "metadata": {},
   "source": [
    "\n",
    "Output Structure:\n",
    "---------------\n",
    "\n",
    "LOBSTER generates a 'message' and an 'orderbook' file for each active \n",
    "trading day of a selected ticker. The 'orderbook' file contains the \n",
    "evolution of the limit order book up to the requested number of levels. \n",
    "The 'message' file contains indicators for the type of event causing \n",
    "an update of the limit order book in the requested price range. All \n",
    "events are timestamped to seconds after midnight, with decimal \n",
    "precision of at least milliseconds and up to nanoseconds depending \n",
    "on the requested period. \n",
    "\n",
    "\n",
    "\tMessage File:\t\t(Matrix of size: (Nx6))\n",
    "\t-------------\t\n",
    "\t\t\t\n",
    "\tName: \tTICKER_Year-Month-Day_StartTime_EndTime_message_LEVEL.csv \t\n",
    "\t\t\n",
    "\t\tStartTime and EndTime give the theoretical beginning \n",
    "\t\tand end time of the output file in milliseconds after \t\t\n",
    "\t\tmid night. LEVEL refers to the number of levels of the \n",
    "\t\trequested limit order book.\n",
    "\n",
    "\n",
    "\tColumns:\n",
    "\t\n",
    "\t    1.) Time: \t\t\n",
    "\t\t\t\tSeconds after midnight with decimal \n",
    "\t\t\t\tprecision of at least milliseconds \n",
    "\t\t\t\tand up to nanoseconds depending on \n",
    "\t\t\t\tthe requested period\n",
    "\t    2.) Type:\n",
    "\t\t\t\t1: Submission of a new limit order\n",
    "\t\t\t\t2: Cancellation (Partial deletion \n",
    "\t\t\t\t   of a limit order)\n",
    "\t\t\t\t3: Deletion (Total deletion of a limit order)\n",
    "\t\t\t\t4: Execution of a visible limit order\t\t\t   \t \n",
    "\t\t\t\t5: Execution of a hidden limit order\n",
    "\t\t\t\t7: Trading halt indicator \t\t\t\t   \n",
    "\t\t\t\t   (Detailed information below)\n",
    "\t    3.) Order ID: \t\n",
    "\t\t\t\tUnique order reference number \n",
    "\t\t\t\t(Assigned in order flow)\n",
    "\t    4.) Size: \t\t\n",
    "\t\t\t\tNumber of shares\n",
    "\t    5.) Price: \t\t\n",
    "\t\t\t\tDollar price times 10000 \n",
    "\t\t\t\t(i.e., A stock price of $91.14 is given \n",
    "\t\t\t\tby 911400)\n",
    "\t    6.) Direction:\n",
    "\t\t\t\t-1: Sell limit order\n",
    "\t\t\t\t1: Buy limit order\n",
    "\t\t\t\t\n",
    "\t\t\t\tNote: \n",
    "\t\t\t\tExecution of a sell (buy) limit\n",
    "\t\t\t\torder corresponds to a buyer (seller) \n",
    "\t\t\t\tinitiated trade, i.e. Buy (Sell) trade.\n",
    "\t\t\t\t\t\t\t\t\t\t\n",
    "\t\t\t\t\t\t\n",
    "\tOrderbook File:\t\t(Matrix of size: (Nx(4xNumberOfLevels)))\n",
    "\t---------------\n",
    "\t\n",
    "\tName: \tTICKER_Year-Month-Day_StartTime_EndTime_orderbook_LEVEL.csv\n",
    "\t\n",
    "\tColumns:\n",
    "\t\n",
    " \t    1.) Ask Price 1: \tLevel 1 Ask Price \t(Best Ask)\n",
    "\t    2.) Ask Size 1: \tLevel 1 Ask Volume \t(Best Ask Volume)\n",
    "\t    3.) Bid Price 1: \tLevel 1 Bid Price \t(Best Bid)\n",
    "\t    4.) Bid Size 1: \tLevel 1 Bid Volume \t(Best Bid Volume)\n",
    "\t    5.) Ask Price 2: \tLevel 2 Ask Price \t(2nd Best Ask)\n",
    "\t    ...\n",
    "\t\n",
    "\tNotes: \t \n",
    "\t------\n",
    "\t\n",
    "\t\t- Levels:\n",
    "\t\t\n",
    "\t\tThe term level refers to occupied price levels. This implies \n",
    "\t\tthat the difference between two levels in the LOBSTER output \n",
    "\t\tis not necessarily the minimum ticks size.\n",
    "\n",
    "\t\t- Unoccupied Price Levels:\n",
    "\t\n",
    "\t\tWhen the selected number of levels exceeds the number of levels \n",
    "\t\tavailable the empty order book positions are filled with dummy \n",
    "\t\tinformation to guarantee a symmetric output. The extra bid \n",
    "\t\tand/or ask prices are set to -9999999999 and 9999999999, \n",
    "\t\trespectively. The Corresponding volumes are set to 0. \n",
    "\t\t\n",
    "\t\t- Trading Halts:\n",
    "\t\t\n",
    "\t\tWhen trading halts, a message of type '7' is written into the \n",
    "\t\t'message' file. The corresponding price and trade direction \n",
    "\t\tare set to '-1' and all other properties are set to '0'. \n",
    "\t\tShould the resume of quoting be indicated by an additional \n",
    "\t\tmessage in NASDAQ's Historical TotalView-ITCH files, another \n",
    "\t\tmessage of type '7' with price '0' is added to the 'message' \n",
    "\t\tfile. Again, the trade direction is set to '-1' and all other \n",
    "\t\tfields are set to '0'. \n",
    "\t\tWhen trading resumes a message of type '7' and \n",
    "\t\tprice '1' (Trade direction '-1' and all other \n",
    "\t\tentries '0') is written to the 'message' file. For messages \n",
    "\t\tof type '7', the corresponding order book rows contain a \n",
    "\t\tduplication of the preceding order book state. The reason \n",
    "\t\tfor the trading halt is not included in the output.\n",
    "\t\t\t\t\t\t\n",
    "\t\t\tExample: Stylized trading halt messages in 'message' file.\t\t\t\t\n",
    "\t\t\n",
    "\t\t\tHalt: \t\t\t\t36023\t| 7 | 0 | 0 | -1 | -1\n",
    "\t\t\t\t\t\t\t\t\t\t\t...\n",
    "\t\t\tQuoting: \t\t\t36323 \t| 7 | 0 | 0 | 0  | -1\n",
    "\t\t\t\t\t\t\t\t\t\t\t...\n",
    "\t\t\tResume Trading:\t\t36723   | 7 | 0 | 0 | 1  | -1\n",
    "\t\t\t\t\t\t\t\t\t\t\t...\n",
    "\n",
    "\t\t\tThe vertical bars indicate the different columns in the  \n",
    "\t\t\tmessage file.\n",
    "\n",
    "=========================================================================\n"
   ]
  },
  {
   "cell_type": "code",
   "execution_count": 6,
   "metadata": {
    "collapsed": true
   },
   "outputs": [],
   "source": [
    "d = LobsterData()"
   ]
  },
  {
   "cell_type": "code",
   "execution_count": 7,
   "metadata": {},
   "outputs": [
    {
     "name": "stderr",
     "output_type": "stream",
     "text": [
      "/Users/Cyril/anaconda/envs/data-x/lib/python3.6/site-packages/ipykernel_launcher.py:35: DeprecationWarning: parsing timezone aware datetimes is deprecated; this will raise an error in the future\n"
     ]
    }
   ],
   "source": [
    "d.read_single_day_data('AMZN_2012-06-21_34200000_57600000_orderbook_5.csv', 'AMZN_2012-06-21_34200000_57600000_message_5.csv', append=True, convert_time=False)"
   ]
  },
  {
   "cell_type": "code",
   "execution_count": 8,
   "metadata": {},
   "outputs": [
    {
     "name": "stdout",
     "output_type": "stream",
     "text": [
      "155935\n"
     ]
    }
   ],
   "source": [
    "print(d.get_number_of_record())"
   ]
  },
  {
   "cell_type": "code",
   "execution_count": 9,
   "metadata": {},
   "outputs": [
    {
     "name": "stdout",
     "output_type": "stream",
     "text": [
      "5\n"
     ]
    }
   ],
   "source": [
    "print(d.get_number_of_level())"
   ]
  },
  {
   "cell_type": "code",
   "execution_count": 10,
   "metadata": {
    "collapsed": true
   },
   "outputs": [],
   "source": [
    "ob = read_csv('AMZN_2012-06-21_34200000_57600000_orderbook_5.csv', header=None)\n",
    "mb = read_csv('AMZN_2012-06-21_34200000_57600000_message_5.csv', header=None)"
   ]
  },
  {
   "cell_type": "markdown",
   "metadata": {},
   "source": [
    "<b> PART 0 - GET THE RELEVANT STRUCTURES <br/>\n",
    "1- the 5-level limit order book --> used to get the S's <br/>\n",
    "2- the buy/sell limit orders placed --> used to get the L's <br/>\n",
    "3- the buy/sell market orders executed --> used to get the M's <br/>\n",
    "4- the buy/sell cancelled orders --> used to get the C's"
   ]
  },
  {
   "cell_type": "code",
   "execution_count": 11,
   "metadata": {},
   "outputs": [
    {
     "data": {
      "text/html": [
       "<div>\n",
       "<style>\n",
       "    .dataframe thead tr:only-child th {\n",
       "        text-align: right;\n",
       "    }\n",
       "\n",
       "    .dataframe thead th {\n",
       "        text-align: left;\n",
       "    }\n",
       "\n",
       "    .dataframe tbody tr th {\n",
       "        vertical-align: top;\n",
       "    }\n",
       "</style>\n",
       "<table border=\"1\" class=\"dataframe\">\n",
       "  <thead>\n",
       "    <tr style=\"text-align: right;\">\n",
       "      <th></th>\n",
       "      <th></th>\n",
       "      <th>Ask_Price_1</th>\n",
       "      <th>Ask_Size_1</th>\n",
       "      <th>Bid_Price_1</th>\n",
       "      <th>Bid_Size_1</th>\n",
       "      <th>Ask_Price_2</th>\n",
       "      <th>Ask_Size_2</th>\n",
       "      <th>Bid_Price_2</th>\n",
       "      <th>Bid_Size_2</th>\n",
       "      <th>Ask_Price_3</th>\n",
       "      <th>Ask_Size_3</th>\n",
       "      <th>...</th>\n",
       "      <th>Bid_Size_3</th>\n",
       "      <th>Ask_Price_4</th>\n",
       "      <th>Ask_Size_4</th>\n",
       "      <th>Bid_Price_4</th>\n",
       "      <th>Bid_Size_4</th>\n",
       "      <th>Ask_Price_5</th>\n",
       "      <th>Ask_Size_5</th>\n",
       "      <th>Bid_Price_5</th>\n",
       "      <th>Bid_Size_5</th>\n",
       "      <th>Time</th>\n",
       "    </tr>\n",
       "    <tr>\n",
       "      <th>Date</th>\n",
       "      <th>Time</th>\n",
       "      <th></th>\n",
       "      <th></th>\n",
       "      <th></th>\n",
       "      <th></th>\n",
       "      <th></th>\n",
       "      <th></th>\n",
       "      <th></th>\n",
       "      <th></th>\n",
       "      <th></th>\n",
       "      <th></th>\n",
       "      <th></th>\n",
       "      <th></th>\n",
       "      <th></th>\n",
       "      <th></th>\n",
       "      <th></th>\n",
       "      <th></th>\n",
       "      <th></th>\n",
       "      <th></th>\n",
       "      <th></th>\n",
       "      <th></th>\n",
       "      <th></th>\n",
       "    </tr>\n",
       "  </thead>\n",
       "  <tbody>\n",
       "    <tr>\n",
       "      <th rowspan=\"5\" valign=\"top\">2012-06-21</th>\n",
       "      <th>57599.545828</th>\n",
       "      <td>2206200</td>\n",
       "      <td>100</td>\n",
       "      <td>2205100</td>\n",
       "      <td>249</td>\n",
       "      <td>2206400</td>\n",
       "      <td>100</td>\n",
       "      <td>2205000</td>\n",
       "      <td>71</td>\n",
       "      <td>2206500</td>\n",
       "      <td>1290</td>\n",
       "      <td>...</td>\n",
       "      <td>700</td>\n",
       "      <td>2206700</td>\n",
       "      <td>170</td>\n",
       "      <td>2204700</td>\n",
       "      <td>100</td>\n",
       "      <td>2206900</td>\n",
       "      <td>170</td>\n",
       "      <td>2204600</td>\n",
       "      <td>1704</td>\n",
       "      <td>57599.545828</td>\n",
       "    </tr>\n",
       "    <tr>\n",
       "      <th>57599.903989</th>\n",
       "      <td>2206400</td>\n",
       "      <td>100</td>\n",
       "      <td>2205100</td>\n",
       "      <td>249</td>\n",
       "      <td>2206500</td>\n",
       "      <td>1290</td>\n",
       "      <td>2205000</td>\n",
       "      <td>71</td>\n",
       "      <td>2206700</td>\n",
       "      <td>170</td>\n",
       "      <td>...</td>\n",
       "      <td>700</td>\n",
       "      <td>2206900</td>\n",
       "      <td>170</td>\n",
       "      <td>2204700</td>\n",
       "      <td>100</td>\n",
       "      <td>2207100</td>\n",
       "      <td>1800</td>\n",
       "      <td>2204600</td>\n",
       "      <td>1704</td>\n",
       "      <td>57599.903989</td>\n",
       "    </tr>\n",
       "    <tr>\n",
       "      <th>57599.955242</th>\n",
       "      <td>2206400</td>\n",
       "      <td>100</td>\n",
       "      <td>2205100</td>\n",
       "      <td>249</td>\n",
       "      <td>2206500</td>\n",
       "      <td>1290</td>\n",
       "      <td>2205000</td>\n",
       "      <td>71</td>\n",
       "      <td>2206700</td>\n",
       "      <td>170</td>\n",
       "      <td>...</td>\n",
       "      <td>700</td>\n",
       "      <td>2207100</td>\n",
       "      <td>1800</td>\n",
       "      <td>2204700</td>\n",
       "      <td>100</td>\n",
       "      <td>2207400</td>\n",
       "      <td>800</td>\n",
       "      <td>2204600</td>\n",
       "      <td>1704</td>\n",
       "      <td>57599.955242</td>\n",
       "    </tr>\n",
       "    <tr>\n",
       "      <th>57599.958245</th>\n",
       "      <td>2206300</td>\n",
       "      <td>100</td>\n",
       "      <td>2205100</td>\n",
       "      <td>249</td>\n",
       "      <td>2206400</td>\n",
       "      <td>100</td>\n",
       "      <td>2205000</td>\n",
       "      <td>71</td>\n",
       "      <td>2206500</td>\n",
       "      <td>1290</td>\n",
       "      <td>...</td>\n",
       "      <td>700</td>\n",
       "      <td>2206700</td>\n",
       "      <td>170</td>\n",
       "      <td>2204700</td>\n",
       "      <td>100</td>\n",
       "      <td>2207100</td>\n",
       "      <td>1800</td>\n",
       "      <td>2204600</td>\n",
       "      <td>1704</td>\n",
       "      <td>57599.958245</td>\n",
       "    </tr>\n",
       "    <tr>\n",
       "      <th>57599.959360</th>\n",
       "      <td>2206400</td>\n",
       "      <td>100</td>\n",
       "      <td>2205100</td>\n",
       "      <td>249</td>\n",
       "      <td>2206500</td>\n",
       "      <td>1290</td>\n",
       "      <td>2205000</td>\n",
       "      <td>71</td>\n",
       "      <td>2206700</td>\n",
       "      <td>170</td>\n",
       "      <td>...</td>\n",
       "      <td>700</td>\n",
       "      <td>2207100</td>\n",
       "      <td>1800</td>\n",
       "      <td>2204700</td>\n",
       "      <td>100</td>\n",
       "      <td>2207400</td>\n",
       "      <td>800</td>\n",
       "      <td>2204600</td>\n",
       "      <td>1704</td>\n",
       "      <td>57599.959360</td>\n",
       "    </tr>\n",
       "  </tbody>\n",
       "</table>\n",
       "<p>5 rows × 21 columns</p>\n",
       "</div>"
      ],
      "text/plain": [
       "                         Ask_Price_1  Ask_Size_1  Bid_Price_1  Bid_Size_1  \\\n",
       "Date       Time                                                             \n",
       "2012-06-21 57599.545828      2206200         100      2205100         249   \n",
       "           57599.903989      2206400         100      2205100         249   \n",
       "           57599.955242      2206400         100      2205100         249   \n",
       "           57599.958245      2206300         100      2205100         249   \n",
       "           57599.959360      2206400         100      2205100         249   \n",
       "\n",
       "                         Ask_Price_2  Ask_Size_2  Bid_Price_2  Bid_Size_2  \\\n",
       "Date       Time                                                             \n",
       "2012-06-21 57599.545828      2206400         100      2205000          71   \n",
       "           57599.903989      2206500        1290      2205000          71   \n",
       "           57599.955242      2206500        1290      2205000          71   \n",
       "           57599.958245      2206400         100      2205000          71   \n",
       "           57599.959360      2206500        1290      2205000          71   \n",
       "\n",
       "                         Ask_Price_3  Ask_Size_3      ...       Bid_Size_3  \\\n",
       "Date       Time                                       ...                    \n",
       "2012-06-21 57599.545828      2206500        1290      ...              700   \n",
       "           57599.903989      2206700         170      ...              700   \n",
       "           57599.955242      2206700         170      ...              700   \n",
       "           57599.958245      2206500        1290      ...              700   \n",
       "           57599.959360      2206700         170      ...              700   \n",
       "\n",
       "                         Ask_Price_4  Ask_Size_4  Bid_Price_4  Bid_Size_4  \\\n",
       "Date       Time                                                             \n",
       "2012-06-21 57599.545828      2206700         170      2204700         100   \n",
       "           57599.903989      2206900         170      2204700         100   \n",
       "           57599.955242      2207100        1800      2204700         100   \n",
       "           57599.958245      2206700         170      2204700         100   \n",
       "           57599.959360      2207100        1800      2204700         100   \n",
       "\n",
       "                         Ask_Price_5  Ask_Size_5  Bid_Price_5  Bid_Size_5  \\\n",
       "Date       Time                                                             \n",
       "2012-06-21 57599.545828      2206900         170      2204600        1704   \n",
       "           57599.903989      2207100        1800      2204600        1704   \n",
       "           57599.955242      2207400         800      2204600        1704   \n",
       "           57599.958245      2207100        1800      2204600        1704   \n",
       "           57599.959360      2207400         800      2204600        1704   \n",
       "\n",
       "                                 Time  \n",
       "Date       Time                        \n",
       "2012-06-21 57599.545828  57599.545828  \n",
       "           57599.903989  57599.903989  \n",
       "           57599.955242  57599.955242  \n",
       "           57599.958245  57599.958245  \n",
       "           57599.959360  57599.959360  \n",
       "\n",
       "[5 rows x 21 columns]"
      ]
     },
     "execution_count": 11,
     "metadata": {},
     "output_type": "execute_result"
    }
   ],
   "source": [
    "# 1- the 5-level limit order book\n",
    "lob = d.order_books\n",
    "Time = []\n",
    "Date = []\n",
    "for idx,row in lob.iterrows():\n",
    "    Time.append(idx[1])\n",
    "lob['Time'] = Time\n",
    "lob.tail()"
   ]
  },
  {
   "cell_type": "code",
   "execution_count": 12,
   "metadata": {},
   "outputs": [
    {
     "name": "stdout",
     "output_type": "stream",
     "text": [
      "                   0  1          2    3        4  5\n",
      "155886  57598.107097  1  287075582  100  2205600  1\n",
      "155892  57598.316250  1  287087236  100  2205700  1\n",
      "155897  57598.359060  1  287089309  100  2205400  1\n",
      "155911  57599.103251  1  287126323  100  2204800  1\n",
      "155924  57599.403081  1  287148338  100  2204800  1\n",
      "\n",
      "                   0  1          2    3        4  5\n",
      "155916  57599.241943  1  287140757  100  2206100 -1\n",
      "155920  57599.282618  1  287142670   25  2206500 -1\n",
      "155921  57599.285831  1  287142900  100  2206200 -1\n",
      "155926  57599.503155  1  287154282  170  2206700 -1\n",
      "155933  57599.958245  1  287174077  100  2206300 -1\n"
     ]
    }
   ],
   "source": [
    "# 2- the buy/sell limit orders placed --> used to get the L's \n",
    "limit_b = mb[(mb[1] == 1) & (mb[5] == 1)]\n",
    "print(limit_b.tail())\n",
    "print()\n",
    "limit_s = mb[(mb[1] == 1) & (mb[5] == -1)]\n",
    "print(limit_s.tail())"
   ]
  },
  {
   "cell_type": "code",
   "execution_count": 13,
   "metadata": {},
   "outputs": [
    {
     "name": "stdout",
     "output_type": "stream",
     "text": [
      "                   0  1          2    3        4  5\n",
      "155907  57599.061375  4  286888769  100  2205300  1\n",
      "155914  57599.241762  4  286932759  100  2205200  1\n",
      "155923  57599.402707  4  282917222   91  2205100  1\n",
      "155929  57599.545828  4  282917222    9  2205100  1\n",
      "155930  57599.545828  4  286916542   51  2205100  1\n",
      "\n",
      "                   0  1          2    3        4  5\n",
      "155884  57598.103362  4  287061322  100  2206300 -1\n",
      "155889  57598.212719  5          0  139  2206300 -1\n",
      "155890  57598.234339  5          0  100  2206300 -1\n",
      "155900  57598.401009  5          0   47  2206300 -1\n",
      "155917  57599.242004  4  287140745    9  2205300 -1\n"
     ]
    }
   ],
   "source": [
    "# 3- the buy/sell market orders executed --> used to get the M's \n",
    "market_b = mb[((mb[1] == 4) | (mb[1] == 5)) & (mb[5] == 1)]\n",
    "print(market_b.tail())\n",
    "print()\n",
    "market_s = mb[((mb[1] == 4) | (mb[1] == 5)) & (mb[5] == -1)]\n",
    "print(market_s.tail())"
   ]
  },
  {
   "cell_type": "code",
   "execution_count": 14,
   "metadata": {},
   "outputs": [
    {
     "name": "stdout",
     "output_type": "stream",
     "text": [
      "                   0  1          2    3        4  5\n",
      "151839  57304.682464  2  280776581  100  2207100  1\n",
      "151848  57304.982408  2  280821524  100  2207000  1\n",
      "151919  57306.461035  2  280940784  100  2207400  1\n",
      "151932  57306.817562  2  280943766  100  2207300  1\n",
      "152249  57339.583033  2  281810239  100  2206600  1\n",
      "\n",
      "                   0  1          2    3        4  5\n",
      "150910  57176.063800  2  278443627  100  2207800 -1\n",
      "152263  57339.770757  2  281835804  100  2209100 -1\n",
      "153679  57528.982702  2  285243806  100  2209000 -1\n",
      "153720  57529.935330  2  285251964  100  2208800 -1\n",
      "154578  57559.174394  2  285821811  100  2207900 -1\n"
     ]
    }
   ],
   "source": [
    "# 4- the buy/sell cancelled orders --> used to get the C's\n",
    "cancelled_b = mb[(mb[1] == 2) & (mb[5] == 1)]\n",
    "print(cancelled_b.tail())\n",
    "print()\n",
    "cancelled_s = mb[(mb[1] == 2) & (mb[5] == -1)]\n",
    "print(cancelled_s.tail())"
   ]
  },
  {
   "cell_type": "markdown",
   "metadata": {},
   "source": [
    "<b> PART 1 - the generic function to return the feature and label vectors"
   ]
  },
  {
   "cell_type": "code",
   "execution_count": 37,
   "metadata": {
    "collapsed": true
   },
   "outputs": [],
   "source": [
    "# this function will return the feature and label vectors.\n",
    "# in order to determine the linear price impact coefficient c\n",
    "# it takes as input:\n",
    "#    - the limit order book lob (previously built)\n",
    "#    - the buy/sell limit orders limit_{b/s} (previously built)\n",
    "#    - the buy/sell cancelled orders cancelled_{b/s} (previously built)\n",
    "#    - the sell/buy market orders C (previously built)\n",
    "#    - lob, L, M, C the required structures\n",
    "#    - buy_sell (0/1 respectively)\n",
    "#    - the desired time period D (in seconds)\n",
    "def get_features_labels(lob, limit_b, limit_s, cancelled_b, cancelled_s, market_b, market_s, D):\n",
    "    X = []\n",
    "    y = []\n",
    "    #start = lob['Time'].iloc[0]\n",
    "    #end = lob['Time'].iloc[-1]\n",
    "    start = lob['Time'].iloc[0] + 7200\n",
    "    end = start + 1800\n",
    "    while(start < end):\n",
    "        \n",
    "        # a- get the corresponding OFI(t,t+D)/D(t)\n",
    "        # how? we just count the parameters L,C,M\n",
    "        # and we \"estimate\" the average depth of a level i.e. number of shares by level in the lob\n",
    "        \n",
    "        # here we compute the parameters L,C,M\n",
    "        # L:\n",
    "        limit_cur_1 = limit_b[(limit_b[0] >= start) & (limit_b[0] <= start + D)] \n",
    "        limit_cur_2 = limit_s[(limit_s[0] >= start) & (limit_s[0] <= start + D)] \n",
    "        L_b = 0 # number of buy limit orders\n",
    "        L_s = 0 # number of sell limit orders\n",
    "        for idx,row in limit_cur_1.iterrows():\n",
    "            L_b = L_b + row[3]\n",
    "        for idx,row in limit_cur_2.iterrows():\n",
    "            L_s = L_s + row[3]\n",
    "        # C:\n",
    "        cancelled_cur_1 = cancelled_b[(cancelled_b[0] >= start) & (cancelled_b[0] <= start + D)]\n",
    "        cancelled_cur_2 = cancelled_s[(cancelled_s[0] >= start) & (cancelled_s[0] <= start + D)]\n",
    "        C_b = 0 # number of buy cancelled orders\n",
    "        C_s = 0 # number of sell cancelled orders\n",
    "        for idx,row in cancelled_cur_1.iterrows():\n",
    "            C_b = C_b + row[3]\n",
    "        for idx,row in cancelled_cur_2.iterrows():\n",
    "            C_s = C_s + row[3]\n",
    "        # M:\n",
    "        market_cur_1 = market_b[(market_b[0] >= start) & (market_b[0] <= start + D)]\n",
    "        market_cur_2 = market_s[(market_s[0] >= start) & (market_s[0] <= start + D)]\n",
    "        M_b = 0 # number of buy market orders\n",
    "        M_s = 0 # number of sell market orders\n",
    "        for idx,row in market_cur_1.iterrows():\n",
    "            M_b = M_b + row[3]\n",
    "        for idx,row in market_cur_2.iterrows():\n",
    "            M_s = M_s + row[3]\n",
    "        # here we check that the lob is non-empty during the time period\n",
    "        lob1 = lob[(lob['Time'] >= start) & (lob['Time'] <= start + 1)]\n",
    "        lob2 = lob[(lob['Time'] >= start + D) & (lob['Time'] <= start + D + 1)]\n",
    "        if(lob1.size==0 or lob2.size==0):\n",
    "            start = start + D\n",
    "            continue\n",
    "        # here we filter some bad examples\n",
    "        val = 0.5*(L_b-C_b-M_b) - 0.5*(L_s-C_s-M_b)\n",
    "        if(val > 20 or val < -20):\n",
    "            start = start + D\n",
    "            continue\n",
    "            \n",
    "        # here we append our example to our feature vector\n",
    "        X.append(val)\n",
    "            \n",
    "        # b- get the corresponding label (S(t+D)-S(t))/d\n",
    "        Delta_S = (0.5*(lob2['Ask_Price_1'].iloc[0] + lob2['Bid_Price_1'].iloc[0])\\\n",
    "                 -0.5*(lob1['Ask_Price_1'].iloc[0] + lob1['Bid_Price_1'].iloc[0]))/100\n",
    "        y.append(Delta_S)\n",
    "        \n",
    "        # c- next time period\n",
    "        start = start + D\n",
    "        \n",
    "    X = np.array(X)\n",
    "    X = X.reshape((X.shape[0],1))\n",
    "    y = np.array(y)\n",
    "    y = y.reshape((y.shape[0],1))\n",
    "    # shuffle them similarly\n",
    "    from sklearn.utils import shuffle\n",
    "    X, y = shuffle(X, y, random_state=0)\n",
    "    \n",
    "    return X,y"
   ]
  },
  {
   "cell_type": "markdown",
   "metadata": {},
   "source": [
    "<b> PART 2 - OLS function"
   ]
  },
  {
   "cell_type": "code",
   "execution_count": 38,
   "metadata": {
    "collapsed": true
   },
   "outputs": [],
   "source": [
    "# this function performs OLS on X,y.\n",
    "# takes also as a parameter buy_sell and D for the plots\n",
    "def OLS(X,y,D):\n",
    "    \n",
    "    # 1- OLS\n",
    "    from sklearn import datasets, linear_model\n",
    "    from sklearn.metrics import mean_squared_error, r2_score\n",
    "    X_train = X[:int(3*len(X)/4)]\n",
    "    X_test = X[-int(len(X)/4):]\n",
    "    y_train = y[:int(3*len(X)/4)]\n",
    "    y_test = y[-int(len(X)/4):]\n",
    "    regr = linear_model.LinearRegression()\n",
    "    regr.fit(X_train, y_train)\n",
    "    y_pred = regr.predict(X_test)\n",
    "    \n",
    "    # 2- qq-plot of y_test - y_pred against normal distribution\n",
    "    import pylab \n",
    "    import scipy.stats as stats\n",
    "    measurements = y_test[:,0] - y_pred[:,0]\n",
    "    stats.probplot(measurements, dist=\"norm\", plot=pylab)\n",
    "    pylab.title('qq-plot against normal')\n",
    "    pylab.show()\n",
    "    \n",
    "    # 3- qq-plot of y_test - y_pred against uniform distribution\n",
    "    measurements = y_test[:,0] - y_pred[:,0]\n",
    "    stats.probplot(measurements, dist=\"uniform\", plot=pylab)\n",
    "    pylab.title('qq-plot against uniform')\n",
    "    pylab.show()\n",
    "    \n",
    "    # 4- post-OLS plot\n",
    "    print('Coefficients: \\n', regr.coef_)\n",
    "    print(\"Mean squared error: %.2f\"\n",
    "          % mean_squared_error(y_test, y_pred))\n",
    "    print('Variance score: %.2f' % r2_score(y_test, y_pred))\n",
    "    \n",
    "    s = [5 for n in range(len(X))]\n",
    "    title = 'OLS - order flow imbalance VS price change (' + str(D) + ' sec)'\n",
    "    plt.figure()\n",
    "    plt.scatter(X,y,s=s)\n",
    "    lines = plt.plot(X_test, y_pred)\n",
    "    plt.setp(lines, 'color', 'r', 'linewidth', 1.0)\n",
    "    plt.xlabel(r'$\\frac{OFI(t,t+\\Delta)}{D(t)}$', fontsize=10)\n",
    "    plt.ylabel(r'$\\frac{S(t+D)-S(t)}{\\delta}$', fontsize=10)\n",
    "    plt.title(title)\n",
    "    plt.show()"
   ]
  },
  {
   "cell_type": "markdown",
   "metadata": {},
   "source": [
    "<b> PART 3 - some tests on OLS"
   ]
  },
  {
   "cell_type": "code",
   "execution_count": 39,
   "metadata": {},
   "outputs": [],
   "source": [
    "# get the features and labels vectors for a sec\n",
    "X, y = get_features_labels(lob, limit_b, limit_s, cancelled_b, cancelled_s, market_b, market_s, 1)"
   ]
  },
  {
   "cell_type": "code",
   "execution_count": 40,
   "metadata": {},
   "outputs": [
    {
     "data": {
      "image/png": "[encoded data removed]",
      "text/plain": [
       "<matplotlib.figure.Figure at 0x11ca25cc0>"
      ]
     },
     "metadata": {},
     "output_type": "display_data"
    },
    {
     "data": {
      "image/png": "[encoded data removed]",
      "text/plain": [
       "<matplotlib.figure.Figure at 0x11cf76cc0>"
      ]
     },
     "metadata": {},
     "output_type": "display_data"
    },
    {
     "name": "stdout",
     "output_type": "stream",
     "text": [
      "Coefficients: \n",
      " [[-0.00698281]]\n",
      "Mean squared error: 1.27\n",
      "Variance score: -0.00\n"
     ]
    },
    {
     "data": {
      "image/png": "[encoded data removed]",
      "text/plain": [
       "<matplotlib.figure.Figure at 0x11d136e48>"
      ]
     },
     "metadata": {},
     "output_type": "display_data"
    }
   ],
   "source": [
    "# try OLS\n",
    "OLS(X, y, 1)"
   ]
  },
  {
   "cell_type": "code",
   "execution_count": 41,
   "metadata": {},
   "outputs": [],
   "source": [
    "# get the features and labels vectors for buy/sell for 10 sec\n",
    "X_10, y_10 = get_features_labels(lob, limit_b, limit_s, cancelled_b, cancelled_s, market_b, market_s, 10)"
   ]
  },
  {
   "cell_type": "code",
   "execution_count": 42,
   "metadata": {},
   "outputs": [
    {
     "ename": "ValueError",
     "evalue": "Found array with 0 sample(s) (shape=(0, 1)) while a minimum of 1 is required.",
     "output_type": "error",
     "traceback": [
      "\u001b[0;31m---------------------------------------------------------------------------\u001b[0m",
      "\u001b[0;31mValueError\u001b[0m                                Traceback (most recent call last)",
      "\u001b[0;32m<ipython-input-42-82a27f0b8889>\u001b[0m in \u001b[0;36m<module>\u001b[0;34m()\u001b[0m\n\u001b[1;32m      1\u001b[0m \u001b[0;31m# try OLS on both\u001b[0m\u001b[0;34m\u001b[0m\u001b[0;34m\u001b[0m\u001b[0m\n\u001b[0;32m----> 2\u001b[0;31m \u001b[0mOLS\u001b[0m\u001b[0;34m(\u001b[0m\u001b[0mX_10\u001b[0m\u001b[0;34m,\u001b[0m \u001b[0my_10\u001b[0m\u001b[0;34m,\u001b[0m \u001b[0;36m10\u001b[0m\u001b[0;34m)\u001b[0m\u001b[0;34m\u001b[0m\u001b[0m\n\u001b[0m",
      "\u001b[0;32m<ipython-input-38-74bf882dfd1f>\u001b[0m in \u001b[0;36mOLS\u001b[0;34m(X, y, D)\u001b[0m\n\u001b[1;32m     11\u001b[0m     \u001b[0my_test\u001b[0m \u001b[0;34m=\u001b[0m \u001b[0my\u001b[0m\u001b[0;34m[\u001b[0m\u001b[0;34m-\u001b[0m\u001b[0mint\u001b[0m\u001b[0;34m(\u001b[0m\u001b[0mlen\u001b[0m\u001b[0;34m(\u001b[0m\u001b[0mX\u001b[0m\u001b[0;34m)\u001b[0m\u001b[0;34m/\u001b[0m\u001b[0;36m4\u001b[0m\u001b[0;34m)\u001b[0m\u001b[0;34m:\u001b[0m\u001b[0;34m]\u001b[0m\u001b[0;34m\u001b[0m\u001b[0m\n\u001b[1;32m     12\u001b[0m     \u001b[0mregr\u001b[0m \u001b[0;34m=\u001b[0m \u001b[0mlinear_model\u001b[0m\u001b[0;34m.\u001b[0m\u001b[0mLinearRegression\u001b[0m\u001b[0;34m(\u001b[0m\u001b[0;34m)\u001b[0m\u001b[0;34m\u001b[0m\u001b[0m\n\u001b[0;32m---> 13\u001b[0;31m     \u001b[0mregr\u001b[0m\u001b[0;34m.\u001b[0m\u001b[0mfit\u001b[0m\u001b[0;34m(\u001b[0m\u001b[0mX_train\u001b[0m\u001b[0;34m,\u001b[0m \u001b[0my_train\u001b[0m\u001b[0;34m)\u001b[0m\u001b[0;34m\u001b[0m\u001b[0m\n\u001b[0m\u001b[1;32m     14\u001b[0m     \u001b[0my_pred\u001b[0m \u001b[0;34m=\u001b[0m \u001b[0mregr\u001b[0m\u001b[0;34m.\u001b[0m\u001b[0mpredict\u001b[0m\u001b[0;34m(\u001b[0m\u001b[0mX_test\u001b[0m\u001b[0;34m)\u001b[0m\u001b[0;34m\u001b[0m\u001b[0m\n\u001b[1;32m     15\u001b[0m \u001b[0;34m\u001b[0m\u001b[0m\n",
      "\u001b[0;32m/Users/Cyril/anaconda/envs/data-x/lib/python3.6/site-packages/sklearn/linear_model/base.py\u001b[0m in \u001b[0;36mfit\u001b[0;34m(self, X, y, sample_weight)\u001b[0m\n\u001b[1;32m    480\u001b[0m         \u001b[0mn_jobs_\u001b[0m \u001b[0;34m=\u001b[0m \u001b[0mself\u001b[0m\u001b[0;34m.\u001b[0m\u001b[0mn_jobs\u001b[0m\u001b[0;34m\u001b[0m\u001b[0m\n\u001b[1;32m    481\u001b[0m         X, y = check_X_y(X, y, accept_sparse=['csr', 'csc', 'coo'],\n\u001b[0;32m--> 482\u001b[0;31m                          y_numeric=True, multi_output=True)\n\u001b[0m\u001b[1;32m    483\u001b[0m \u001b[0;34m\u001b[0m\u001b[0m\n\u001b[1;32m    484\u001b[0m         \u001b[0;32mif\u001b[0m \u001b[0msample_weight\u001b[0m \u001b[0;32mis\u001b[0m \u001b[0;32mnot\u001b[0m \u001b[0;32mNone\u001b[0m \u001b[0;32mand\u001b[0m \u001b[0mnp\u001b[0m\u001b[0;34m.\u001b[0m\u001b[0matleast_1d\u001b[0m\u001b[0;34m(\u001b[0m\u001b[0msample_weight\u001b[0m\u001b[0;34m)\u001b[0m\u001b[0;34m.\u001b[0m\u001b[0mndim\u001b[0m \u001b[0;34m>\u001b[0m \u001b[0;36m1\u001b[0m\u001b[0;34m:\u001b[0m\u001b[0;34m\u001b[0m\u001b[0m\n",
      "\u001b[0;32m/Users/Cyril/anaconda/envs/data-x/lib/python3.6/site-packages/sklearn/utils/validation.py\u001b[0m in \u001b[0;36mcheck_X_y\u001b[0;34m(X, y, accept_sparse, dtype, order, copy, force_all_finite, ensure_2d, allow_nd, multi_output, ensure_min_samples, ensure_min_features, y_numeric, warn_on_dtype, estimator)\u001b[0m\n\u001b[1;32m    540\u001b[0m     X = check_array(X, accept_sparse, dtype, order, copy, force_all_finite,\n\u001b[1;32m    541\u001b[0m                     \u001b[0mensure_2d\u001b[0m\u001b[0;34m,\u001b[0m \u001b[0mallow_nd\u001b[0m\u001b[0;34m,\u001b[0m \u001b[0mensure_min_samples\u001b[0m\u001b[0;34m,\u001b[0m\u001b[0;34m\u001b[0m\u001b[0m\n\u001b[0;32m--> 542\u001b[0;31m                     ensure_min_features, warn_on_dtype, estimator)\n\u001b[0m\u001b[1;32m    543\u001b[0m     \u001b[0;32mif\u001b[0m \u001b[0mmulti_output\u001b[0m\u001b[0;34m:\u001b[0m\u001b[0;34m\u001b[0m\u001b[0m\n\u001b[1;32m    544\u001b[0m         y = check_array(y, 'csr', force_all_finite=True, ensure_2d=False,\n",
      "\u001b[0;32m/Users/Cyril/anaconda/envs/data-x/lib/python3.6/site-packages/sklearn/utils/validation.py\u001b[0m in \u001b[0;36mcheck_array\u001b[0;34m(array, accept_sparse, dtype, order, copy, force_all_finite, ensure_2d, allow_nd, ensure_min_samples, ensure_min_features, warn_on_dtype, estimator)\u001b[0m\n\u001b[1;32m    429\u001b[0m                              \u001b[0;34m\" minimum of %d is required%s.\"\u001b[0m\u001b[0;34m\u001b[0m\u001b[0m\n\u001b[1;32m    430\u001b[0m                              % (n_samples, shape_repr, ensure_min_samples,\n\u001b[0;32m--> 431\u001b[0;31m                                 context))\n\u001b[0m\u001b[1;32m    432\u001b[0m \u001b[0;34m\u001b[0m\u001b[0m\n\u001b[1;32m    433\u001b[0m     \u001b[0;32mif\u001b[0m \u001b[0mensure_min_features\u001b[0m \u001b[0;34m>\u001b[0m \u001b[0;36m0\u001b[0m \u001b[0;32mand\u001b[0m \u001b[0marray\u001b[0m\u001b[0;34m.\u001b[0m\u001b[0mndim\u001b[0m \u001b[0;34m==\u001b[0m \u001b[0;36m2\u001b[0m\u001b[0;34m:\u001b[0m\u001b[0;34m\u001b[0m\u001b[0m\n",
      "\u001b[0;31mValueError\u001b[0m: Found array with 0 sample(s) (shape=(0, 1)) while a minimum of 1 is required."
     ]
    }
   ],
   "source": [
    "# try OLS on both\n",
    "OLS(X_10, y_10, 10)"
   ]
  },
  {
   "cell_type": "markdown",
   "metadata": {},
   "source": [
    "<b> PART 4 - ridge regression function"
   ]
  },
  {
   "cell_type": "code",
   "execution_count": null,
   "metadata": {
    "collapsed": true
   },
   "outputs": [],
   "source": [
    "# this function performs ridge regression on X,y.\n",
    "# takes also as a parameter buy_sell and D for the plots\n",
    "def RIDGE(X,y,buy_sell,D):\n",
    "    \n",
    "    # 1- RIDGE\n",
    "    # we will try all a-prioris from 0.1 to 1 (as Rama-Cont), with variance 0.16^2 (--> lambda = 25)\n",
    "    from sklearn import datasets, linear_model\n",
    "    from sklearn.metrics import mean_squared_error, r2_score\n",
    "    X_train = X[:int(len(X)/3)]\n",
    "    X_test = X[-int(2*len(X)/3):]\n",
    "    y_train = y[:int(len(X)/3)]\n",
    "    y_test = y[-int(2*len(X)/3):]\n",
    "    lambdas = [0.00001, 0.0001, 0.001,0.01,0.1,1, 10, 100, 1000, 10000, 100000]\n",
    "    errs = []\n",
    "    coeffs = []\n",
    "    for _lambda in lambdas:\n",
    "        regr = linear_model.Ridge(_lambda)\n",
    "        regr.fit(X_train, y_train)\n",
    "        y_pred = regr.predict(X_test)\n",
    "        errs.append(mean_squared_error(y_test, y_pred))\n",
    "        coeffs.append(regr.coef_)\n",
    "    \n",
    "    # 2- plot of the RIDGE validation error in terms of alpha\n",
    "    s = [5 for n in range(len(X))]\n",
    "    title = 'Ridge - ' + buy_sell + ' , ' + r'$\\lambda$ VS MSE (' + str(D) + ' sec)'\n",
    "    plt.figure()\n",
    "    plt.loglog(lambdas, errs)\n",
    "    plt.xlabel(r'$\\lambda$', fontsize=10)\n",
    "    plt.ylabel(r'$\\log(MSE)$', fontsize=10)\n",
    "    plt.title(title)\n",
    "    plt.show()\n",
    "    \n",
    "    # 3- post-RIDGE on best performing coeff\n",
    "    idx = np.argmin(errs)\n",
    "    regr = linear_model.Ridge(lambdas[idx])\n",
    "    regr.fit(X_train, y_train)\n",
    "    print('Coefficients: \\n', regr.coef_)\n",
    "    print(\"Mean squared error: %.2f\"\n",
    "          % mean_squared_error(y_test, y_pred))\n",
    "    print('Variance score: %.2f' % r2_score(y_test, y_pred))\n",
    "    \n",
    "    # 4- qq-plot of y_test - y_pred against normal distribution\n",
    "    import pylab \n",
    "    import scipy.stats as stats\n",
    "    measurements = y_test[:,0] - y_pred[:,0]\n",
    "    stats.probplot(measurements, dist=\"norm\", plot=pylab)\n",
    "    pylab.title('qq-plot against normal')\n",
    "    pylab.show()\n",
    "    \n",
    "    # 5- qq-plot of y_test - y_pred against uniform distribution\n",
    "    measurements = y_test[:,0] - y_pred[:,0]\n",
    "    stats.probplot(measurements, dist=\"uniform\", plot=pylab)\n",
    "    pylab.title('qq-plot against uniform')\n",
    "    pylab.show()\n",
    "    \n",
    "    # 6- post-RIDGE plot on best performing coeff\n",
    "    y_pred = regr.predict(X_test)\n",
    "    s = [5 for n in range(len(X))]\n",
    "    title = 'Ridge - ' + buy_sell + ' order flow imbalance VS price change (' + str(D) + ' sec)'\n",
    "    plt.figure()\n",
    "    plt.scatter(X,y,s=s)\n",
    "    lines = plt.plot(X_test, y_pred)\n",
    "    plt.setp(lines, 'color', 'r', 'linewidth', 1.0)\n",
    "    plt.xlabel(r'$\\frac{OFI(t,t+\\Delta)}{D(t)}$', fontsize=10)\n",
    "    plt.ylabel(r'$\\frac{S(t+D)-S(t)}{\\delta}$', fontsize=10)\n",
    "    plt.title(title)\n",
    "    plt.show()"
   ]
  },
  {
   "cell_type": "markdown",
   "metadata": {},
   "source": [
    "<b> PART 5 - some tests on RIDGE"
   ]
  },
  {
   "cell_type": "code",
   "execution_count": null,
   "metadata": {},
   "outputs": [],
   "source": [
    "RIDGE(X_buy,y_buy,'buy',1)\n",
    "RIDGE(X_sell,y_sell,'sell',1)"
   ]
  },
  {
   "cell_type": "code",
   "execution_count": null,
   "metadata": {},
   "outputs": [],
   "source": [
    "RIDGE(X_buy_10,y_buy_10,'buy',10)\n",
    "RIDGE(X_sell_10,y_sell_10,'sell',10)"
   ]
  },
  {
   "cell_type": "markdown",
   "metadata": {},
   "source": [
    "<b> PART 6 - polynomial regression"
   ]
  },
  {
   "cell_type": "code",
   "execution_count": null,
   "metadata": {
    "collapsed": true
   },
   "outputs": [],
   "source": [
    "# this function performs OLS on poly(X)^deg,y.\n",
    "# takes also as a parameter buy_sell and D for the plots\n",
    "def OLS_poly(X,y,buy_sell,D,deg):\n",
    "\n",
    "    # 1- augment X\n",
    "    X_poly = np.zeros((X.shape[0],deg+1))\n",
    "    for i in range(len(X)):\n",
    "        for j in range(deg+1):\n",
    "            X_poly[i,j] = X[i]**j\n",
    "    \n",
    "    # 2- OLS\n",
    "    from sklearn import datasets, linear_model\n",
    "    from sklearn.metrics import mean_squared_error, r2_score\n",
    "    X_train = X_poly[:int(3*len(X)/4)]\n",
    "    X_test = X_poly[-int(len(X)/4):]\n",
    "    X_test_plot = X[-int(len(X)/4):]\n",
    "    y_train = y[:int(3*len(X)/4)]\n",
    "    y_test = y[-int(len(X)/4):]\n",
    "    regr = linear_model.LinearRegression()\n",
    "    regr.fit(X_train, y_train)\n",
    "    y_pred = regr.predict(X_test)\n",
    "    print('Coefficients: \\n', regr.coef_)\n",
    "    print(\"Mean squared error: %.2f\"\n",
    "          % mean_squared_error(y_test, y_pred))\n",
    "    print('Variance score: %.2f' % r2_score(y_test, y_pred))\n",
    "    \n",
    "    # 3- qq-plot of y_test - y_pred against normal distribution\n",
    "    import pylab \n",
    "    import scipy.stats as stats\n",
    "    measurements = y_test[:,0] - y_pred[:,0]\n",
    "    stats.probplot(measurements, dist=\"norm\", plot=pylab)\n",
    "    pylab.title('qq-plot against normal')\n",
    "    pylab.show()\n",
    "    \n",
    "    # 4- qq-plot of y_test - y_pred against uniform distribution\n",
    "    measurements = y_test[:,0] - y_pred[:,0]\n",
    "    stats.probplot(measurements, dist=\"uniform\", plot=pylab)\n",
    "    pylab.title('qq-plot against uniform')\n",
    "    pylab.show()\n",
    "    \n",
    "    # 5- post-OLS plot\n",
    "    s = [5 for n in range(len(X))]\n",
    "    title = 'OLS - ' + buy_sell + ' order flow imbalance VS price change (' + str(D) + ' sec)'\n",
    "    plt.figure()\n",
    "    plt.scatter(X,y,s=s)\n",
    "    plt.scatter(X_test_plot, y_pred, s=8*s, color='red')\n",
    "    plt.xlabel(r'$\\frac{OFI(t,t+\\Delta)}{D(t)}$', fontsize=10)\n",
    "    plt.ylabel(r'$\\frac{S(t+D)-S(t)}{\\delta}$', fontsize=10)\n",
    "    plt.title(title)\n",
    "    plt.show()"
   ]
  },
  {
   "cell_type": "markdown",
   "metadata": {},
   "source": [
    "<b> PART 7 - testing some polynomial regression"
   ]
  },
  {
   "cell_type": "code",
   "execution_count": null,
   "metadata": {},
   "outputs": [],
   "source": [
    "# try deg 2 on both\n",
    "OLS_poly(X_buy, y_buy, 'buy', 1, 2)\n",
    "OLS_poly(X_sell, y_sell, 'sell', 1, 2)"
   ]
  },
  {
   "cell_type": "code",
   "execution_count": null,
   "metadata": {},
   "outputs": [],
   "source": [
    "# try OLS on both\n",
    "OLS_poly(X_buy, y_buy, 'buy', 1, 7)\n",
    "OLS_poly(X_sell, y_sell, 'sell', 1, 7)"
   ]
  },
  {
   "cell_type": "markdown",
   "metadata": {},
   "source": [
    "<b> PART 8 - finding the best polynomial regression degree"
   ]
  },
  {
   "cell_type": "code",
   "execution_count": null,
   "metadata": {
    "collapsed": true
   },
   "outputs": [],
   "source": [
    "# this function performs OLS on poly(X)^deg for several deg,y.\n",
    "# takes also as a parameter buy_sell and D for the plots\n",
    "def OLS_poly_test(X,y,buy_sell,D):\n",
    "\n",
    "    # 1- test for several degrees\n",
    "    degs = [0,1,2,3,4,5]\n",
    "    errs = []\n",
    "    for deg in degs:\n",
    "        # a- augment X\n",
    "        X_poly = np.zeros((X.shape[0],deg+1))\n",
    "        for i in range(len(X)):\n",
    "            for j in range(deg+1):\n",
    "                X_poly[i,j] = X[i]**j\n",
    "        # b- fit\n",
    "        from sklearn import datasets, linear_model\n",
    "        from sklearn.metrics import mean_squared_error, r2_score\n",
    "        X_train = X_poly[:int(len(X)/4)]\n",
    "        X_test = X_poly[-int(3*len(X)/4):]\n",
    "        y_train = y[:int(len(X)/4)]\n",
    "        y_test = y[-int(3*len(X)/4):]\n",
    "        regr = linear_model.LinearRegression()\n",
    "        regr.fit(X_train, y_train)\n",
    "        y_pred = regr.predict(X_test)\n",
    "        errs.append(mean_squared_error(y_test, y_pred))\n",
    "    \n",
    "    # 2- plot deg VS errs\n",
    "    title = 'Polynomial regression - ' + buy_sell + ' , ' + r'$d$ VS MSE (' + str(D) + ' sec)'\n",
    "    plt.figure()\n",
    "    plt.plot(degs,errs)\n",
    "    plt.xlabel(r'$d$', fontsize=10)\n",
    "    plt.ylabel(r'$MSE$', fontsize=10)\n",
    "    plt.title(title)\n",
    "    plt.show()"
   ]
  },
  {
   "cell_type": "code",
   "execution_count": null,
   "metadata": {},
   "outputs": [],
   "source": [
    "OLS_poly_test(X_buy,y_buy,'buy',1)"
   ]
  }
 ],
 "metadata": {
  "kernelspec": {
   "display_name": "Python 3",
   "language": "python",
   "name": "python3"
  },
  "language_info": {
   "codemirror_mode": {
    "name": "ipython",
    "version": 3
   },
   "file_extension": ".py",
   "mimetype": "text/x-python",
   "name": "python",
   "nbconvert_exporter": "python",
   "pygments_lexer": "ipython3",
   "version": "3.6.1"
  }
 },
 "nbformat": 4,
 "nbformat_minor": 2
}
